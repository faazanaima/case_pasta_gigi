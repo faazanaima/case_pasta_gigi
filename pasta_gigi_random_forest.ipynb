{
  "cells": [
    {
      "cell_type": "markdown",
      "metadata": {
        "id": "LONKhOZxMNmT"
      },
      "source": [
        "**KELOMPOK 1**\n",
        "==========================================================================================================================================\n",
        "**PREDIKSI MEREK PASTA GIGI BERDASARKAN ANALISA KONDISI GIGI DAN PREFERENSI HARGA**\n",
        "==========================================================================================================================================\n",
        "\n",
        "ZAHIR SYAHBANI     (41520120009)\n",
        "\n",
        "FAAZA NAIMA        (41520120010)\n",
        "\n",
        "LARASATI FEBRIANDA (41520120011)\n",
        "\n",
        "\n",
        "==========================================================================================================================================\n",
        "selected_columns = ['kondisi', 'sakit_gigi', 'frekuensi_sakit', 'masalah_gigi', 'gigi_berlubang', 'harga', 'reaksi_negatif', 'range_warna_gigi']\n",
        "\n",
        "target_variable = 'merek'\n",
        "==========================================================================================================================================/"
      ]
    },
    {
      "cell_type": "markdown",
      "metadata": {
        "id": "AymDWfo6SqKL"
      },
      "source": [
        "## BUSINESS UNDERSTANDING\n",
        "\n",
        "Surveyor ingin mengetahui faktor-faktor yang mempengaruhi pilihan merek pasta gigi pelanggan, termasuk kondisi dan preferensi mereka. Surveyor juga ingin mengembangkan model untuk memprediksi merek pasta gigi yang akan dipilih pelanggan berdasarkan faktor-faktor tersebut."
      ]
    },
    {
      "cell_type": "markdown",
      "metadata": {
        "id": "1sG9naGxTG44"
      },
      "source": [
        "## DATA UNDERSTANDING\n",
        "\n",
        "Mengumpulkan data pelanggan berupa pertanyaan kuisioner\n",
        "1. Jenis Model Pasta Gigi yang digunakan\": \"jenis\"\n",
        "2. Merk Pasta Gigi yang Anda gunakan (jika menggunakan)\": \"merek\",\n",
        "3. Lama Penggunaan Merk Pasta gigi tersebut (sesuai nomor 2)\": \"lama\",\n",
        "4. Kondisi gigi anda saat ini?\": \"kondisi\",\n",
        "5. Apakah anda mempunyai riwayat sakit gigi?\": \"sakit_gigi\",\n",
        "6. Jika jawaban no 5 adalah iya, seberapa sering Anda mengalami sakit gigi?\": \"frekuensi_sakit\",\n",
        "7.  Pernah mengalami masalah gigi lainnya? (misalnya, gusi berdarah, gigi tanggal, dll.)\": \"masalah_gigi\",\n",
        "8.  Apakah anda memiliki gigi yang berlubang?\": \"gigi_berlubang\",\n",
        "9.  Apakah Anda melakukan pemeriksaan gigi rutin setidaknya 6 bulan sekali? \": \"pemeriksaan_rutin\",\n",
        "10. Intensitas gosok gigi dalam sehari?\": \"intensitas_gosok_gigi\",\n",
        "11. Apakah Anda menggunakan teknik yang benar saat menyikat gigi?\":\"teknik_gosok_gigi\",\n",
        "12. Frekuensi dalam mengganti merk pasta gigi yang anda gunakan\": \"frekuensi_mengganti\",\n",
        "13.  Apakah anda merokok?\": \"merokok\",\n",
        "14. Apakah harga mempengaruhi pilihan Anda dalam membeli pasta gigi\": \"harga\",\n",
        "15. Apakah Anda pernah mengalami reaksi negatif setelah menggunakan pasta gigi tertentu? (misalnya, iritasi gusi, rasa panas, dll.)\": \"reaksi_negatif\",\n",
        "16. Range warna gigi anda saat ini \\ncontoh jawaban: 1\": \"range_warna_gigi\""
      ]
    },
    {
      "cell_type": "markdown",
      "metadata": {
        "id": "uwPmZ9UjTOqd"
      },
      "source": [
        "## DATA PREPARATION"
      ]
    },
    {
      "cell_type": "code",
      "execution_count": null,
      "metadata": {
        "id": "syJl2bI9--Mh"
      },
      "outputs": [],
      "source": [
        "import pandas as pd\n",
        "from sklearn.model_selection import train_test_split\n",
        "from sklearn.ensemble import RandomForestClassifier\n",
        "from sklearn.metrics import accuracy_score, precision_score, recall_score, f1_score, confusion_matrix, classification_report"
      ]
    },
    {
      "cell_type": "code",
      "execution_count": null,
      "metadata": {
        "id": "PzhAQbQc_Jh9"
      },
      "outputs": [],
      "source": [
        "# Baca data dari file CSV\n",
        "#file_path = \"C:/Users/rokeu/Downloads/dataset.csv\"#\n",
        "file_path = \"/content/kesehatan.csv\"\n",
        "data = pd.read_csv(file_path)"
      ]
    },
    {
      "cell_type": "code",
      "execution_count": null,
      "metadata": {
        "colab": {
          "base_uri": "https://localhost:8080/",
          "height": 347
        },
        "id": "K3W_geEG_zOD",
        "outputId": "222b2d48-2809-4d31-bcc4-e04602c26882"
      },
      "outputs": [
        {
          "output_type": "execute_result",
          "data": {
            "text/plain": [
              "             timestamp                   nama         jk usia       jenis  \\\n",
              "0  10/14/2023 20:39:38        Muh Jadid Taqwa  Laki-Laki   24  Pasta Gigi   \n",
              "1  10/14/2023 20:44:48                  Faaza  Perempuan   24  Pasta Gigi   \n",
              "2  10/14/2023 20:48:50      Dinne elza zakiah  Perempuan   22  Pasta Gigi   \n",
              "3  10/14/2023 20:54:07  Baiq Nur'ainna Sultia  Perempuan   24  Pasta Gigi   \n",
              "4  10/14/2023 20:54:09         Alia Rahmadani  Perempuan   31  Pasta Gigi   \n",
              "\n",
              "       merek          lama   kondisi sakit_gigi frekuensi_sakit  masalah_gigi  \\\n",
              "0    Colgate    > 12 Bulan    Normal        Iya    Tidak pernah  Tidak Pernah   \n",
              "1  Pepsodent  1 sd 3 Bulan    Normal        Iya   kadang-kadang        Pernah   \n",
              "2  Ciptadent    > 12 Bulan  Sensitif        Iya          Jarang        Pernah   \n",
              "3  Pepsodent    > 12 Bulan    Normal        Iya   kadang-kadang        Pernah   \n",
              "4  Pepsodent    > 12 Bulan    Normal        Iya          Jarang        Pernah   \n",
              "\n",
              "  gigi_berlubang pemeriksaan_rutin intensitas_gosok_gigi teknik_gosok_gigi  \\\n",
              "0             Ya                Ya             >= 3 Kali                Ya   \n",
              "1             Ya             Tidak                2 Kali       Tidak yakin   \n",
              "2             Ya             Tidak             >= 3 Kali       Tidak yakin   \n",
              "3             Ya             Tidak                1 kali       Tidak yakin   \n",
              "4             Ya             Tidak                2 Kali       Tidak yakin   \n",
              "\n",
              "  frekuensi_mengganti merokok  harga reaksi_negatif range_warna_gigi  \n",
              "0        Tidak pernah   Tidak     Ya   Tidak pernah                2  \n",
              "1        Tidak pernah   Tidak     Ya   Tidak pernah                4  \n",
              "2              Sering   Tidak  Tidak   Tidak pernah                6  \n",
              "3        Tidak pernah   Tidak  Tidak   Tidak pernah                5  \n",
              "4         Kondisional   Tidak  Tidak   Tidak pernah                9  "
            ],
            "text/html": [
              "\n",
              "  <div id=\"df-3d3b6dbb-aa58-4c11-a965-9dcf00a5a53c\" class=\"colab-df-container\">\n",
              "    <div>\n",
              "<style scoped>\n",
              "    .dataframe tbody tr th:only-of-type {\n",
              "        vertical-align: middle;\n",
              "    }\n",
              "\n",
              "    .dataframe tbody tr th {\n",
              "        vertical-align: top;\n",
              "    }\n",
              "\n",
              "    .dataframe thead th {\n",
              "        text-align: right;\n",
              "    }\n",
              "</style>\n",
              "<table border=\"1\" class=\"dataframe\">\n",
              "  <thead>\n",
              "    <tr style=\"text-align: right;\">\n",
              "      <th></th>\n",
              "      <th>timestamp</th>\n",
              "      <th>nama</th>\n",
              "      <th>jk</th>\n",
              "      <th>usia</th>\n",
              "      <th>jenis</th>\n",
              "      <th>merek</th>\n",
              "      <th>lama</th>\n",
              "      <th>kondisi</th>\n",
              "      <th>sakit_gigi</th>\n",
              "      <th>frekuensi_sakit</th>\n",
              "      <th>masalah_gigi</th>\n",
              "      <th>gigi_berlubang</th>\n",
              "      <th>pemeriksaan_rutin</th>\n",
              "      <th>intensitas_gosok_gigi</th>\n",
              "      <th>teknik_gosok_gigi</th>\n",
              "      <th>frekuensi_mengganti</th>\n",
              "      <th>merokok</th>\n",
              "      <th>harga</th>\n",
              "      <th>reaksi_negatif</th>\n",
              "      <th>range_warna_gigi</th>\n",
              "    </tr>\n",
              "  </thead>\n",
              "  <tbody>\n",
              "    <tr>\n",
              "      <th>0</th>\n",
              "      <td>10/14/2023 20:39:38</td>\n",
              "      <td>Muh Jadid Taqwa</td>\n",
              "      <td>Laki-Laki</td>\n",
              "      <td>24</td>\n",
              "      <td>Pasta Gigi</td>\n",
              "      <td>Colgate</td>\n",
              "      <td>&gt; 12 Bulan</td>\n",
              "      <td>Normal</td>\n",
              "      <td>Iya</td>\n",
              "      <td>Tidak pernah</td>\n",
              "      <td>Tidak Pernah</td>\n",
              "      <td>Ya</td>\n",
              "      <td>Ya</td>\n",
              "      <td>&gt;= 3 Kali</td>\n",
              "      <td>Ya</td>\n",
              "      <td>Tidak pernah</td>\n",
              "      <td>Tidak</td>\n",
              "      <td>Ya</td>\n",
              "      <td>Tidak pernah</td>\n",
              "      <td>2</td>\n",
              "    </tr>\n",
              "    <tr>\n",
              "      <th>1</th>\n",
              "      <td>10/14/2023 20:44:48</td>\n",
              "      <td>Faaza</td>\n",
              "      <td>Perempuan</td>\n",
              "      <td>24</td>\n",
              "      <td>Pasta Gigi</td>\n",
              "      <td>Pepsodent</td>\n",
              "      <td>1 sd 3 Bulan</td>\n",
              "      <td>Normal</td>\n",
              "      <td>Iya</td>\n",
              "      <td>kadang-kadang</td>\n",
              "      <td>Pernah</td>\n",
              "      <td>Ya</td>\n",
              "      <td>Tidak</td>\n",
              "      <td>2 Kali</td>\n",
              "      <td>Tidak yakin</td>\n",
              "      <td>Tidak pernah</td>\n",
              "      <td>Tidak</td>\n",
              "      <td>Ya</td>\n",
              "      <td>Tidak pernah</td>\n",
              "      <td>4</td>\n",
              "    </tr>\n",
              "    <tr>\n",
              "      <th>2</th>\n",
              "      <td>10/14/2023 20:48:50</td>\n",
              "      <td>Dinne elza zakiah</td>\n",
              "      <td>Perempuan</td>\n",
              "      <td>22</td>\n",
              "      <td>Pasta Gigi</td>\n",
              "      <td>Ciptadent</td>\n",
              "      <td>&gt; 12 Bulan</td>\n",
              "      <td>Sensitif</td>\n",
              "      <td>Iya</td>\n",
              "      <td>Jarang</td>\n",
              "      <td>Pernah</td>\n",
              "      <td>Ya</td>\n",
              "      <td>Tidak</td>\n",
              "      <td>&gt;= 3 Kali</td>\n",
              "      <td>Tidak yakin</td>\n",
              "      <td>Sering</td>\n",
              "      <td>Tidak</td>\n",
              "      <td>Tidak</td>\n",
              "      <td>Tidak pernah</td>\n",
              "      <td>6</td>\n",
              "    </tr>\n",
              "    <tr>\n",
              "      <th>3</th>\n",
              "      <td>10/14/2023 20:54:07</td>\n",
              "      <td>Baiq Nur'ainna Sultia</td>\n",
              "      <td>Perempuan</td>\n",
              "      <td>24</td>\n",
              "      <td>Pasta Gigi</td>\n",
              "      <td>Pepsodent</td>\n",
              "      <td>&gt; 12 Bulan</td>\n",
              "      <td>Normal</td>\n",
              "      <td>Iya</td>\n",
              "      <td>kadang-kadang</td>\n",
              "      <td>Pernah</td>\n",
              "      <td>Ya</td>\n",
              "      <td>Tidak</td>\n",
              "      <td>1 kali</td>\n",
              "      <td>Tidak yakin</td>\n",
              "      <td>Tidak pernah</td>\n",
              "      <td>Tidak</td>\n",
              "      <td>Tidak</td>\n",
              "      <td>Tidak pernah</td>\n",
              "      <td>5</td>\n",
              "    </tr>\n",
              "    <tr>\n",
              "      <th>4</th>\n",
              "      <td>10/14/2023 20:54:09</td>\n",
              "      <td>Alia Rahmadani</td>\n",
              "      <td>Perempuan</td>\n",
              "      <td>31</td>\n",
              "      <td>Pasta Gigi</td>\n",
              "      <td>Pepsodent</td>\n",
              "      <td>&gt; 12 Bulan</td>\n",
              "      <td>Normal</td>\n",
              "      <td>Iya</td>\n",
              "      <td>Jarang</td>\n",
              "      <td>Pernah</td>\n",
              "      <td>Ya</td>\n",
              "      <td>Tidak</td>\n",
              "      <td>2 Kali</td>\n",
              "      <td>Tidak yakin</td>\n",
              "      <td>Kondisional</td>\n",
              "      <td>Tidak</td>\n",
              "      <td>Tidak</td>\n",
              "      <td>Tidak pernah</td>\n",
              "      <td>9</td>\n",
              "    </tr>\n",
              "  </tbody>\n",
              "</table>\n",
              "</div>\n",
              "    <div class=\"colab-df-buttons\">\n",
              "\n",
              "  <div class=\"colab-df-container\">\n",
              "    <button class=\"colab-df-convert\" onclick=\"convertToInteractive('df-3d3b6dbb-aa58-4c11-a965-9dcf00a5a53c')\"\n",
              "            title=\"Convert this dataframe to an interactive table.\"\n",
              "            style=\"display:none;\">\n",
              "\n",
              "  <svg xmlns=\"http://www.w3.org/2000/svg\" height=\"24px\" viewBox=\"0 -960 960 960\">\n",
              "    <path d=\"M120-120v-720h720v720H120Zm60-500h600v-160H180v160Zm220 220h160v-160H400v160Zm0 220h160v-160H400v160ZM180-400h160v-160H180v160Zm440 0h160v-160H620v160ZM180-180h160v-160H180v160Zm440 0h160v-160H620v160Z\"/>\n",
              "  </svg>\n",
              "    </button>\n",
              "\n",
              "  <style>\n",
              "    .colab-df-container {\n",
              "      display:flex;\n",
              "      gap: 12px;\n",
              "    }\n",
              "\n",
              "    .colab-df-convert {\n",
              "      background-color: #E8F0FE;\n",
              "      border: none;\n",
              "      border-radius: 50%;\n",
              "      cursor: pointer;\n",
              "      display: none;\n",
              "      fill: #1967D2;\n",
              "      height: 32px;\n",
              "      padding: 0 0 0 0;\n",
              "      width: 32px;\n",
              "    }\n",
              "\n",
              "    .colab-df-convert:hover {\n",
              "      background-color: #E2EBFA;\n",
              "      box-shadow: 0px 1px 2px rgba(60, 64, 67, 0.3), 0px 1px 3px 1px rgba(60, 64, 67, 0.15);\n",
              "      fill: #174EA6;\n",
              "    }\n",
              "\n",
              "    .colab-df-buttons div {\n",
              "      margin-bottom: 4px;\n",
              "    }\n",
              "\n",
              "    [theme=dark] .colab-df-convert {\n",
              "      background-color: #3B4455;\n",
              "      fill: #D2E3FC;\n",
              "    }\n",
              "\n",
              "    [theme=dark] .colab-df-convert:hover {\n",
              "      background-color: #434B5C;\n",
              "      box-shadow: 0px 1px 3px 1px rgba(0, 0, 0, 0.15);\n",
              "      filter: drop-shadow(0px 1px 2px rgba(0, 0, 0, 0.3));\n",
              "      fill: #FFFFFF;\n",
              "    }\n",
              "  </style>\n",
              "\n",
              "    <script>\n",
              "      const buttonEl =\n",
              "        document.querySelector('#df-3d3b6dbb-aa58-4c11-a965-9dcf00a5a53c button.colab-df-convert');\n",
              "      buttonEl.style.display =\n",
              "        google.colab.kernel.accessAllowed ? 'block' : 'none';\n",
              "\n",
              "      async function convertToInteractive(key) {\n",
              "        const element = document.querySelector('#df-3d3b6dbb-aa58-4c11-a965-9dcf00a5a53c');\n",
              "        const dataTable =\n",
              "          await google.colab.kernel.invokeFunction('convertToInteractive',\n",
              "                                                    [key], {});\n",
              "        if (!dataTable) return;\n",
              "\n",
              "        const docLinkHtml = 'Like what you see? Visit the ' +\n",
              "          '<a target=\"_blank\" href=https://colab.research.google.com/notebooks/data_table.ipynb>data table notebook</a>'\n",
              "          + ' to learn more about interactive tables.';\n",
              "        element.innerHTML = '';\n",
              "        dataTable['output_type'] = 'display_data';\n",
              "        await google.colab.output.renderOutput(dataTable, element);\n",
              "        const docLink = document.createElement('div');\n",
              "        docLink.innerHTML = docLinkHtml;\n",
              "        element.appendChild(docLink);\n",
              "      }\n",
              "    </script>\n",
              "  </div>\n",
              "\n",
              "\n",
              "<div id=\"df-096d45b0-722f-4f0e-b228-d2f5684e66bb\">\n",
              "  <button class=\"colab-df-quickchart\" onclick=\"quickchart('df-096d45b0-722f-4f0e-b228-d2f5684e66bb')\"\n",
              "            title=\"Suggest charts\"\n",
              "            style=\"display:none;\">\n",
              "\n",
              "<svg xmlns=\"http://www.w3.org/2000/svg\" height=\"24px\"viewBox=\"0 0 24 24\"\n",
              "     width=\"24px\">\n",
              "    <g>\n",
              "        <path d=\"M19 3H5c-1.1 0-2 .9-2 2v14c0 1.1.9 2 2 2h14c1.1 0 2-.9 2-2V5c0-1.1-.9-2-2-2zM9 17H7v-7h2v7zm4 0h-2V7h2v10zm4 0h-2v-4h2v4z\"/>\n",
              "    </g>\n",
              "</svg>\n",
              "  </button>\n",
              "\n",
              "<style>\n",
              "  .colab-df-quickchart {\n",
              "      --bg-color: #E8F0FE;\n",
              "      --fill-color: #1967D2;\n",
              "      --hover-bg-color: #E2EBFA;\n",
              "      --hover-fill-color: #174EA6;\n",
              "      --disabled-fill-color: #AAA;\n",
              "      --disabled-bg-color: #DDD;\n",
              "  }\n",
              "\n",
              "  [theme=dark] .colab-df-quickchart {\n",
              "      --bg-color: #3B4455;\n",
              "      --fill-color: #D2E3FC;\n",
              "      --hover-bg-color: #434B5C;\n",
              "      --hover-fill-color: #FFFFFF;\n",
              "      --disabled-bg-color: #3B4455;\n",
              "      --disabled-fill-color: #666;\n",
              "  }\n",
              "\n",
              "  .colab-df-quickchart {\n",
              "    background-color: var(--bg-color);\n",
              "    border: none;\n",
              "    border-radius: 50%;\n",
              "    cursor: pointer;\n",
              "    display: none;\n",
              "    fill: var(--fill-color);\n",
              "    height: 32px;\n",
              "    padding: 0;\n",
              "    width: 32px;\n",
              "  }\n",
              "\n",
              "  .colab-df-quickchart:hover {\n",
              "    background-color: var(--hover-bg-color);\n",
              "    box-shadow: 0 1px 2px rgba(60, 64, 67, 0.3), 0 1px 3px 1px rgba(60, 64, 67, 0.15);\n",
              "    fill: var(--button-hover-fill-color);\n",
              "  }\n",
              "\n",
              "  .colab-df-quickchart-complete:disabled,\n",
              "  .colab-df-quickchart-complete:disabled:hover {\n",
              "    background-color: var(--disabled-bg-color);\n",
              "    fill: var(--disabled-fill-color);\n",
              "    box-shadow: none;\n",
              "  }\n",
              "\n",
              "  .colab-df-spinner {\n",
              "    border: 2px solid var(--fill-color);\n",
              "    border-color: transparent;\n",
              "    border-bottom-color: var(--fill-color);\n",
              "    animation:\n",
              "      spin 1s steps(1) infinite;\n",
              "  }\n",
              "\n",
              "  @keyframes spin {\n",
              "    0% {\n",
              "      border-color: transparent;\n",
              "      border-bottom-color: var(--fill-color);\n",
              "      border-left-color: var(--fill-color);\n",
              "    }\n",
              "    20% {\n",
              "      border-color: transparent;\n",
              "      border-left-color: var(--fill-color);\n",
              "      border-top-color: var(--fill-color);\n",
              "    }\n",
              "    30% {\n",
              "      border-color: transparent;\n",
              "      border-left-color: var(--fill-color);\n",
              "      border-top-color: var(--fill-color);\n",
              "      border-right-color: var(--fill-color);\n",
              "    }\n",
              "    40% {\n",
              "      border-color: transparent;\n",
              "      border-right-color: var(--fill-color);\n",
              "      border-top-color: var(--fill-color);\n",
              "    }\n",
              "    60% {\n",
              "      border-color: transparent;\n",
              "      border-right-color: var(--fill-color);\n",
              "    }\n",
              "    80% {\n",
              "      border-color: transparent;\n",
              "      border-right-color: var(--fill-color);\n",
              "      border-bottom-color: var(--fill-color);\n",
              "    }\n",
              "    90% {\n",
              "      border-color: transparent;\n",
              "      border-bottom-color: var(--fill-color);\n",
              "    }\n",
              "  }\n",
              "</style>\n",
              "\n",
              "  <script>\n",
              "    async function quickchart(key) {\n",
              "      const quickchartButtonEl =\n",
              "        document.querySelector('#' + key + ' button');\n",
              "      quickchartButtonEl.disabled = true;  // To prevent multiple clicks.\n",
              "      quickchartButtonEl.classList.add('colab-df-spinner');\n",
              "      try {\n",
              "        const charts = await google.colab.kernel.invokeFunction(\n",
              "            'suggestCharts', [key], {});\n",
              "      } catch (error) {\n",
              "        console.error('Error during call to suggestCharts:', error);\n",
              "      }\n",
              "      quickchartButtonEl.classList.remove('colab-df-spinner');\n",
              "      quickchartButtonEl.classList.add('colab-df-quickchart-complete');\n",
              "    }\n",
              "    (() => {\n",
              "      let quickchartButtonEl =\n",
              "        document.querySelector('#df-096d45b0-722f-4f0e-b228-d2f5684e66bb button');\n",
              "      quickchartButtonEl.style.display =\n",
              "        google.colab.kernel.accessAllowed ? 'block' : 'none';\n",
              "    })();\n",
              "  </script>\n",
              "</div>\n",
              "    </div>\n",
              "  </div>\n"
            ]
          },
          "metadata": {},
          "execution_count": 6
        }
      ],
      "source": [
        "df = pd.DataFrame(data)\n",
        "df.rename(columns=\n",
        "          {\"Timestamp\": \"timestamp\",\n",
        "           \"Nama\": \"nama\",\n",
        "           \"Jenis Kelamin\": \"jk\",\n",
        "           \"Usia dalam tahun\\nContoh: 25\": \"usia\",\n",
        "           \"1. Jenis Model Pasta Gigi yang digunakan\": \"jenis\",\n",
        "           \"2. Merk Pasta Gigi yang Anda gunakan (jika menggunakan)\": \"merek\",\n",
        "           \"3. Lama Penggunaan Merk Pasta gigi tersebut (sesuai nomor 2)\": \"lama\",\n",
        "           \"4. Kondisi gigi anda saat ini?\": \"kondisi\",\n",
        "           \"5. Apakah anda mempunyai riwayat sakit gigi?\": \"sakit_gigi\",\n",
        "           \"6. Jika jawaban no 5 adalah iya, seberapa sering Anda mengalami sakit gigi?\": \"frekuensi_sakit\",\n",
        "           \"7.  Pernah mengalami masalah gigi lainnya? (misalnya, gusi berdarah, gigi tanggal, dll.)\": \"masalah_gigi\",\n",
        "           \"8.  Apakah anda memiliki gigi yang berlubang?\": \"gigi_berlubang\",\n",
        "           \"9.  Apakah Anda melakukan pemeriksaan gigi rutin setidaknya 6 bulan sekali? \": \"pemeriksaan_rutin\",\n",
        "           \"10. Intensitas gosok gigi dalam sehari?\": \"intensitas_gosok_gigi\",\n",
        "           \"11. Apakah Anda menggunakan teknik yang benar saat menyikat gigi?\":\"teknik_gosok_gigi\",\n",
        "           \"12. Frekuensi dalam mengganti merk pasta gigi yang anda gunakan\": \"frekuensi_mengganti\",\n",
        "           \"13.  Apakah anda merokok?\": \"merokok\",\n",
        "           \"14. Apakah harga mempengaruhi pilihan Anda dalam membeli pasta gigi\": \"harga\",\n",
        "           \"15. Apakah Anda pernah mengalami reaksi negatif setelah menggunakan pasta gigi tertentu? (misalnya, iritasi gusi, rasa panas, dll.)\": \"reaksi_negatif\",\n",
        "           \"16. Range warna gigi anda saat ini \\ncontoh jawaban: 1\": \"range_warna_gigi\"\n",
        "          }, inplace=True)\n",
        "\n",
        "df.head()"
      ]
    },
    {
      "cell_type": "code",
      "source": [
        "df.tail(  )"
      ],
      "metadata": {
        "colab": {
          "base_uri": "https://localhost:8080/",
          "height": 365
        },
        "id": "GnjGzc8BQ0hz",
        "outputId": "b1c05dbb-a992-4c46-817e-e49185ff5a3c"
      },
      "execution_count": null,
      "outputs": [
        {
          "output_type": "execute_result",
          "data": {
            "text/plain": [
              "              timestamp                       nama         jk usia  \\\n",
              "293  11/9/2023 17:40:11  Christopher Marco Angelo   Laki-Laki   21   \n",
              "294  11/9/2023 17:46:04             Riska restiani  Perempuan   23   \n",
              "295  11/9/2023 18:21:43                    Winarto  Laki-Laki   24   \n",
              "296  11/9/2023 18:33:19                      Taqyn  Perempuan   15   \n",
              "297  11/9/2023 19:50:50        M. Chandra Agoeng P  Laki-Laki   19   \n",
              "\n",
              "          jenis      merek          lama   kondisi sakit_gigi frekuensi_sakit  \\\n",
              "293  Pasta Gigi  Pepsodent    > 12 Bulan    Normal      Tidak    Tidak pernah   \n",
              "294  Pasta Gigi    CloseUp  1 sd 3 Bulan    Normal      Tidak    Tidak pernah   \n",
              "295  Pasta Gigi  Pepsodent    > 12 Bulan  Sensitif      Tidak    Tidak pernah   \n",
              "296  Pasta Gigi  Pepsodent  1 sd 3 Bulan  Sensitif        Iya   kadang-kadang   \n",
              "297  Pasta Gigi  Pepsodent    > 12 Bulan    Normal      Tidak   kadang-kadang   \n",
              "\n",
              "     masalah_gigi gigi_berlubang pemeriksaan_rutin intensitas_gosok_gigi  \\\n",
              "293        Pernah          Tidak             Tidak                2 Kali   \n",
              "294  Tidak Pernah          Tidak             Tidak                2 Kali   \n",
              "295  Tidak Pernah             Ya             Tidak                1 kali   \n",
              "296        Pernah             Ya             Tidak                1 kali   \n",
              "297        Pernah          Tidak             Tidak                2 Kali   \n",
              "\n",
              "    teknik_gosok_gigi frekuensi_mengganti merokok  harga reaksi_negatif  \\\n",
              "293                Ya         Kondisional   Tidak     Ya   Tidak pernah   \n",
              "294                Ya              Sering   Tidak  Tidak   Tidak pernah   \n",
              "295       Tidak yakin         Kondisional   Tidak  Tidak   Tidak pernah   \n",
              "296                Ya         Kondisional   Tidak     Ya   Tidak pernah   \n",
              "297       Tidak yakin              Sering   Tidak     Ya   Tidak pernah   \n",
              "\n",
              "    range_warna_gigi  \n",
              "293               19  \n",
              "294                5  \n",
              "295               21  \n",
              "296                3  \n",
              "297                7  "
            ],
            "text/html": [
              "\n",
              "  <div id=\"df-9ede2604-ec4a-4fa7-b42f-7cb736eb3a9e\" class=\"colab-df-container\">\n",
              "    <div>\n",
              "<style scoped>\n",
              "    .dataframe tbody tr th:only-of-type {\n",
              "        vertical-align: middle;\n",
              "    }\n",
              "\n",
              "    .dataframe tbody tr th {\n",
              "        vertical-align: top;\n",
              "    }\n",
              "\n",
              "    .dataframe thead th {\n",
              "        text-align: right;\n",
              "    }\n",
              "</style>\n",
              "<table border=\"1\" class=\"dataframe\">\n",
              "  <thead>\n",
              "    <tr style=\"text-align: right;\">\n",
              "      <th></th>\n",
              "      <th>timestamp</th>\n",
              "      <th>nama</th>\n",
              "      <th>jk</th>\n",
              "      <th>usia</th>\n",
              "      <th>jenis</th>\n",
              "      <th>merek</th>\n",
              "      <th>lama</th>\n",
              "      <th>kondisi</th>\n",
              "      <th>sakit_gigi</th>\n",
              "      <th>frekuensi_sakit</th>\n",
              "      <th>masalah_gigi</th>\n",
              "      <th>gigi_berlubang</th>\n",
              "      <th>pemeriksaan_rutin</th>\n",
              "      <th>intensitas_gosok_gigi</th>\n",
              "      <th>teknik_gosok_gigi</th>\n",
              "      <th>frekuensi_mengganti</th>\n",
              "      <th>merokok</th>\n",
              "      <th>harga</th>\n",
              "      <th>reaksi_negatif</th>\n",
              "      <th>range_warna_gigi</th>\n",
              "    </tr>\n",
              "  </thead>\n",
              "  <tbody>\n",
              "    <tr>\n",
              "      <th>293</th>\n",
              "      <td>11/9/2023 17:40:11</td>\n",
              "      <td>Christopher Marco Angelo</td>\n",
              "      <td>Laki-Laki</td>\n",
              "      <td>21</td>\n",
              "      <td>Pasta Gigi</td>\n",
              "      <td>Pepsodent</td>\n",
              "      <td>&gt; 12 Bulan</td>\n",
              "      <td>Normal</td>\n",
              "      <td>Tidak</td>\n",
              "      <td>Tidak pernah</td>\n",
              "      <td>Pernah</td>\n",
              "      <td>Tidak</td>\n",
              "      <td>Tidak</td>\n",
              "      <td>2 Kali</td>\n",
              "      <td>Ya</td>\n",
              "      <td>Kondisional</td>\n",
              "      <td>Tidak</td>\n",
              "      <td>Ya</td>\n",
              "      <td>Tidak pernah</td>\n",
              "      <td>19</td>\n",
              "    </tr>\n",
              "    <tr>\n",
              "      <th>294</th>\n",
              "      <td>11/9/2023 17:46:04</td>\n",
              "      <td>Riska restiani</td>\n",
              "      <td>Perempuan</td>\n",
              "      <td>23</td>\n",
              "      <td>Pasta Gigi</td>\n",
              "      <td>CloseUp</td>\n",
              "      <td>1 sd 3 Bulan</td>\n",
              "      <td>Normal</td>\n",
              "      <td>Tidak</td>\n",
              "      <td>Tidak pernah</td>\n",
              "      <td>Tidak Pernah</td>\n",
              "      <td>Tidak</td>\n",
              "      <td>Tidak</td>\n",
              "      <td>2 Kali</td>\n",
              "      <td>Ya</td>\n",
              "      <td>Sering</td>\n",
              "      <td>Tidak</td>\n",
              "      <td>Tidak</td>\n",
              "      <td>Tidak pernah</td>\n",
              "      <td>5</td>\n",
              "    </tr>\n",
              "    <tr>\n",
              "      <th>295</th>\n",
              "      <td>11/9/2023 18:21:43</td>\n",
              "      <td>Winarto</td>\n",
              "      <td>Laki-Laki</td>\n",
              "      <td>24</td>\n",
              "      <td>Pasta Gigi</td>\n",
              "      <td>Pepsodent</td>\n",
              "      <td>&gt; 12 Bulan</td>\n",
              "      <td>Sensitif</td>\n",
              "      <td>Tidak</td>\n",
              "      <td>Tidak pernah</td>\n",
              "      <td>Tidak Pernah</td>\n",
              "      <td>Ya</td>\n",
              "      <td>Tidak</td>\n",
              "      <td>1 kali</td>\n",
              "      <td>Tidak yakin</td>\n",
              "      <td>Kondisional</td>\n",
              "      <td>Tidak</td>\n",
              "      <td>Tidak</td>\n",
              "      <td>Tidak pernah</td>\n",
              "      <td>21</td>\n",
              "    </tr>\n",
              "    <tr>\n",
              "      <th>296</th>\n",
              "      <td>11/9/2023 18:33:19</td>\n",
              "      <td>Taqyn</td>\n",
              "      <td>Perempuan</td>\n",
              "      <td>15</td>\n",
              "      <td>Pasta Gigi</td>\n",
              "      <td>Pepsodent</td>\n",
              "      <td>1 sd 3 Bulan</td>\n",
              "      <td>Sensitif</td>\n",
              "      <td>Iya</td>\n",
              "      <td>kadang-kadang</td>\n",
              "      <td>Pernah</td>\n",
              "      <td>Ya</td>\n",
              "      <td>Tidak</td>\n",
              "      <td>1 kali</td>\n",
              "      <td>Ya</td>\n",
              "      <td>Kondisional</td>\n",
              "      <td>Tidak</td>\n",
              "      <td>Ya</td>\n",
              "      <td>Tidak pernah</td>\n",
              "      <td>3</td>\n",
              "    </tr>\n",
              "    <tr>\n",
              "      <th>297</th>\n",
              "      <td>11/9/2023 19:50:50</td>\n",
              "      <td>M. Chandra Agoeng P</td>\n",
              "      <td>Laki-Laki</td>\n",
              "      <td>19</td>\n",
              "      <td>Pasta Gigi</td>\n",
              "      <td>Pepsodent</td>\n",
              "      <td>&gt; 12 Bulan</td>\n",
              "      <td>Normal</td>\n",
              "      <td>Tidak</td>\n",
              "      <td>kadang-kadang</td>\n",
              "      <td>Pernah</td>\n",
              "      <td>Tidak</td>\n",
              "      <td>Tidak</td>\n",
              "      <td>2 Kali</td>\n",
              "      <td>Tidak yakin</td>\n",
              "      <td>Sering</td>\n",
              "      <td>Tidak</td>\n",
              "      <td>Ya</td>\n",
              "      <td>Tidak pernah</td>\n",
              "      <td>7</td>\n",
              "    </tr>\n",
              "  </tbody>\n",
              "</table>\n",
              "</div>\n",
              "    <div class=\"colab-df-buttons\">\n",
              "\n",
              "  <div class=\"colab-df-container\">\n",
              "    <button class=\"colab-df-convert\" onclick=\"convertToInteractive('df-9ede2604-ec4a-4fa7-b42f-7cb736eb3a9e')\"\n",
              "            title=\"Convert this dataframe to an interactive table.\"\n",
              "            style=\"display:none;\">\n",
              "\n",
              "  <svg xmlns=\"http://www.w3.org/2000/svg\" height=\"24px\" viewBox=\"0 -960 960 960\">\n",
              "    <path d=\"M120-120v-720h720v720H120Zm60-500h600v-160H180v160Zm220 220h160v-160H400v160Zm0 220h160v-160H400v160ZM180-400h160v-160H180v160Zm440 0h160v-160H620v160ZM180-180h160v-160H180v160Zm440 0h160v-160H620v160Z\"/>\n",
              "  </svg>\n",
              "    </button>\n",
              "\n",
              "  <style>\n",
              "    .colab-df-container {\n",
              "      display:flex;\n",
              "      gap: 12px;\n",
              "    }\n",
              "\n",
              "    .colab-df-convert {\n",
              "      background-color: #E8F0FE;\n",
              "      border: none;\n",
              "      border-radius: 50%;\n",
              "      cursor: pointer;\n",
              "      display: none;\n",
              "      fill: #1967D2;\n",
              "      height: 32px;\n",
              "      padding: 0 0 0 0;\n",
              "      width: 32px;\n",
              "    }\n",
              "\n",
              "    .colab-df-convert:hover {\n",
              "      background-color: #E2EBFA;\n",
              "      box-shadow: 0px 1px 2px rgba(60, 64, 67, 0.3), 0px 1px 3px 1px rgba(60, 64, 67, 0.15);\n",
              "      fill: #174EA6;\n",
              "    }\n",
              "\n",
              "    .colab-df-buttons div {\n",
              "      margin-bottom: 4px;\n",
              "    }\n",
              "\n",
              "    [theme=dark] .colab-df-convert {\n",
              "      background-color: #3B4455;\n",
              "      fill: #D2E3FC;\n",
              "    }\n",
              "\n",
              "    [theme=dark] .colab-df-convert:hover {\n",
              "      background-color: #434B5C;\n",
              "      box-shadow: 0px 1px 3px 1px rgba(0, 0, 0, 0.15);\n",
              "      filter: drop-shadow(0px 1px 2px rgba(0, 0, 0, 0.3));\n",
              "      fill: #FFFFFF;\n",
              "    }\n",
              "  </style>\n",
              "\n",
              "    <script>\n",
              "      const buttonEl =\n",
              "        document.querySelector('#df-9ede2604-ec4a-4fa7-b42f-7cb736eb3a9e button.colab-df-convert');\n",
              "      buttonEl.style.display =\n",
              "        google.colab.kernel.accessAllowed ? 'block' : 'none';\n",
              "\n",
              "      async function convertToInteractive(key) {\n",
              "        const element = document.querySelector('#df-9ede2604-ec4a-4fa7-b42f-7cb736eb3a9e');\n",
              "        const dataTable =\n",
              "          await google.colab.kernel.invokeFunction('convertToInteractive',\n",
              "                                                    [key], {});\n",
              "        if (!dataTable) return;\n",
              "\n",
              "        const docLinkHtml = 'Like what you see? Visit the ' +\n",
              "          '<a target=\"_blank\" href=https://colab.research.google.com/notebooks/data_table.ipynb>data table notebook</a>'\n",
              "          + ' to learn more about interactive tables.';\n",
              "        element.innerHTML = '';\n",
              "        dataTable['output_type'] = 'display_data';\n",
              "        await google.colab.output.renderOutput(dataTable, element);\n",
              "        const docLink = document.createElement('div');\n",
              "        docLink.innerHTML = docLinkHtml;\n",
              "        element.appendChild(docLink);\n",
              "      }\n",
              "    </script>\n",
              "  </div>\n",
              "\n",
              "\n",
              "<div id=\"df-1ad8fa90-be18-442e-95fc-8b54457ee025\">\n",
              "  <button class=\"colab-df-quickchart\" onclick=\"quickchart('df-1ad8fa90-be18-442e-95fc-8b54457ee025')\"\n",
              "            title=\"Suggest charts\"\n",
              "            style=\"display:none;\">\n",
              "\n",
              "<svg xmlns=\"http://www.w3.org/2000/svg\" height=\"24px\"viewBox=\"0 0 24 24\"\n",
              "     width=\"24px\">\n",
              "    <g>\n",
              "        <path d=\"M19 3H5c-1.1 0-2 .9-2 2v14c0 1.1.9 2 2 2h14c1.1 0 2-.9 2-2V5c0-1.1-.9-2-2-2zM9 17H7v-7h2v7zm4 0h-2V7h2v10zm4 0h-2v-4h2v4z\"/>\n",
              "    </g>\n",
              "</svg>\n",
              "  </button>\n",
              "\n",
              "<style>\n",
              "  .colab-df-quickchart {\n",
              "      --bg-color: #E8F0FE;\n",
              "      --fill-color: #1967D2;\n",
              "      --hover-bg-color: #E2EBFA;\n",
              "      --hover-fill-color: #174EA6;\n",
              "      --disabled-fill-color: #AAA;\n",
              "      --disabled-bg-color: #DDD;\n",
              "  }\n",
              "\n",
              "  [theme=dark] .colab-df-quickchart {\n",
              "      --bg-color: #3B4455;\n",
              "      --fill-color: #D2E3FC;\n",
              "      --hover-bg-color: #434B5C;\n",
              "      --hover-fill-color: #FFFFFF;\n",
              "      --disabled-bg-color: #3B4455;\n",
              "      --disabled-fill-color: #666;\n",
              "  }\n",
              "\n",
              "  .colab-df-quickchart {\n",
              "    background-color: var(--bg-color);\n",
              "    border: none;\n",
              "    border-radius: 50%;\n",
              "    cursor: pointer;\n",
              "    display: none;\n",
              "    fill: var(--fill-color);\n",
              "    height: 32px;\n",
              "    padding: 0;\n",
              "    width: 32px;\n",
              "  }\n",
              "\n",
              "  .colab-df-quickchart:hover {\n",
              "    background-color: var(--hover-bg-color);\n",
              "    box-shadow: 0 1px 2px rgba(60, 64, 67, 0.3), 0 1px 3px 1px rgba(60, 64, 67, 0.15);\n",
              "    fill: var(--button-hover-fill-color);\n",
              "  }\n",
              "\n",
              "  .colab-df-quickchart-complete:disabled,\n",
              "  .colab-df-quickchart-complete:disabled:hover {\n",
              "    background-color: var(--disabled-bg-color);\n",
              "    fill: var(--disabled-fill-color);\n",
              "    box-shadow: none;\n",
              "  }\n",
              "\n",
              "  .colab-df-spinner {\n",
              "    border: 2px solid var(--fill-color);\n",
              "    border-color: transparent;\n",
              "    border-bottom-color: var(--fill-color);\n",
              "    animation:\n",
              "      spin 1s steps(1) infinite;\n",
              "  }\n",
              "\n",
              "  @keyframes spin {\n",
              "    0% {\n",
              "      border-color: transparent;\n",
              "      border-bottom-color: var(--fill-color);\n",
              "      border-left-color: var(--fill-color);\n",
              "    }\n",
              "    20% {\n",
              "      border-color: transparent;\n",
              "      border-left-color: var(--fill-color);\n",
              "      border-top-color: var(--fill-color);\n",
              "    }\n",
              "    30% {\n",
              "      border-color: transparent;\n",
              "      border-left-color: var(--fill-color);\n",
              "      border-top-color: var(--fill-color);\n",
              "      border-right-color: var(--fill-color);\n",
              "    }\n",
              "    40% {\n",
              "      border-color: transparent;\n",
              "      border-right-color: var(--fill-color);\n",
              "      border-top-color: var(--fill-color);\n",
              "    }\n",
              "    60% {\n",
              "      border-color: transparent;\n",
              "      border-right-color: var(--fill-color);\n",
              "    }\n",
              "    80% {\n",
              "      border-color: transparent;\n",
              "      border-right-color: var(--fill-color);\n",
              "      border-bottom-color: var(--fill-color);\n",
              "    }\n",
              "    90% {\n",
              "      border-color: transparent;\n",
              "      border-bottom-color: var(--fill-color);\n",
              "    }\n",
              "  }\n",
              "</style>\n",
              "\n",
              "  <script>\n",
              "    async function quickchart(key) {\n",
              "      const quickchartButtonEl =\n",
              "        document.querySelector('#' + key + ' button');\n",
              "      quickchartButtonEl.disabled = true;  // To prevent multiple clicks.\n",
              "      quickchartButtonEl.classList.add('colab-df-spinner');\n",
              "      try {\n",
              "        const charts = await google.colab.kernel.invokeFunction(\n",
              "            'suggestCharts', [key], {});\n",
              "      } catch (error) {\n",
              "        console.error('Error during call to suggestCharts:', error);\n",
              "      }\n",
              "      quickchartButtonEl.classList.remove('colab-df-spinner');\n",
              "      quickchartButtonEl.classList.add('colab-df-quickchart-complete');\n",
              "    }\n",
              "    (() => {\n",
              "      let quickchartButtonEl =\n",
              "        document.querySelector('#df-1ad8fa90-be18-442e-95fc-8b54457ee025 button');\n",
              "      quickchartButtonEl.style.display =\n",
              "        google.colab.kernel.accessAllowed ? 'block' : 'none';\n",
              "    })();\n",
              "  </script>\n",
              "</div>\n",
              "    </div>\n",
              "  </div>\n"
            ]
          },
          "metadata": {},
          "execution_count": 8
        }
      ]
    },
    {
      "cell_type": "code",
      "execution_count": null,
      "metadata": {
        "colab": {
          "base_uri": "https://localhost:8080/"
        },
        "id": "5axZZifCAoo7",
        "outputId": "b3431c8e-2648-4845-9d86-19eab03ad622"
      },
      "outputs": [
        {
          "output_type": "execute_result",
          "data": {
            "text/plain": [
              "0"
            ]
          },
          "metadata": {},
          "execution_count": 7
        }
      ],
      "source": [
        "df.duplicated().sum()"
      ]
    },
    {
      "cell_type": "code",
      "execution_count": null,
      "metadata": {
        "colab": {
          "base_uri": "https://localhost:8080/"
        },
        "id": "oi07ahEtBKNF",
        "outputId": "ba7421ad-908c-4c06-953d-57f76322ef07"
      },
      "outputs": [
        {
          "name": "stdout",
          "output_type": "stream",
          "text": [
            "<class 'pandas.core.frame.DataFrame'>\n",
            "RangeIndex: 114 entries, 0 to 113\n",
            "Data columns (total 22 columns):\n",
            " #   Column                 Non-Null Count  Dtype \n",
            "---  ------                 --------------  ----- \n",
            " 0   timestamp              114 non-null    object\n",
            " 1   nama                   114 non-null    object\n",
            " 2   jk                     114 non-null    object\n",
            " 3   usia                   114 non-null    object\n",
            " 4   jenis                  114 non-null    object\n",
            " 5   merek                  114 non-null    object\n",
            " 6   lama                   113 non-null    object\n",
            " 7   kondisi                114 non-null    object\n",
            " 8   sakit_gigi             114 non-null    object\n",
            " 9   frekuensi_sakit        93 non-null     object\n",
            " 10  masalah_gigi           114 non-null    object\n",
            " 11  gigi_berlubang         114 non-null    object\n",
            " 12  pemeriksaan_rutin      114 non-null    object\n",
            " 13  intensitas_gosok_gigi  114 non-null    object\n",
            " 14  teknik_gosok_gigi      114 non-null    object\n",
            " 15  frekuensi_mengganti    114 non-null    object\n",
            " 16  merokok                114 non-null    object\n",
            " 17  harga                  114 non-null    object\n",
            " 18  reaksi_negatif         114 non-null    object\n",
            " 19  range_warna_gigi       114 non-null    object\n",
            " 20  Unnamed: 20            11 non-null     object\n",
            " 21  Unnamed: 21            10 non-null     object\n",
            "dtypes: object(22)\n",
            "memory usage: 19.7+ KB\n"
          ]
        }
      ],
      "source": [
        "df.info()"
      ]
    },
    {
      "cell_type": "code",
      "execution_count": null,
      "metadata": {
        "id": "SGJmY7j2BS4y"
      },
      "outputs": [],
      "source": [
        "# Menghapus baris dengan nilai 'Siwak' pada kolom 'jenis'\n",
        "df = df[df['jenis'] != 'Siwak']"
      ]
    },
    {
      "cell_type": "code",
      "execution_count": null,
      "metadata": {
        "id": "3-iTzqchBXXL"
      },
      "outputs": [],
      "source": [
        "# Menghapus beberapa kolom pada indeks ke-0 (timestamp), ke-4 (jenis), ke-12 (pemeriksaan_rutin), ke-14 (teknik_gosok_gigi), ke-15 (frekuensi_mengganti), ke-16(merokok), ke ke-20, dan ke-21 (tanpa nama dan isian tidak ada)\n",
        "df.drop(df.columns[[0, 4, 12, 14, 15, 16, 20, 21]], axis=1, inplace=True)"
      ]
    },
    {
      "cell_type": "code",
      "execution_count": null,
      "metadata": {
        "id": "gpjX9Pg4BeAn"
      },
      "outputs": [],
      "source": [
        "# Menyimpan nama kolom yang ingin dipindahkan\n",
        "kolom_pindah = 'merek'"
      ]
    },
    {
      "cell_type": "code",
      "execution_count": null,
      "metadata": {
        "id": "F-TjNsXjBiLv"
      },
      "outputs": [],
      "source": [
        "# Menyimpan nama kolom yang tidak ingin dipindahkan\n",
        "kolom_lainnya = [kolom for kolom in df.columns if kolom != kolom_pindah]"
      ]
    },
    {
      "cell_type": "code",
      "execution_count": null,
      "metadata": {
        "id": "ui9Ql8t5Bkhg"
      },
      "outputs": [],
      "source": [
        "# Membuat DataFrame baru dengan urutan kolom yang diinginkan\n",
        "df = pd.concat([df[kolom_lainnya], df[kolom_pindah]], axis=1)"
      ]
    },
    {
      "cell_type": "code",
      "execution_count": null,
      "metadata": {
        "colab": {
          "base_uri": "https://localhost:8080/",
          "height": 712
        },
        "id": "oCsKisyGBrqA",
        "outputId": "2c029c87-634f-4a90-ade0-e046cfd202c3"
      },
      "outputs": [
        {
          "name": "stdout",
          "output_type": "stream",
          "text": [
            "<class 'pandas.core.frame.DataFrame'>\n",
            "Index: 113 entries, 0 to 113\n",
            "Data columns (total 14 columns):\n",
            " #   Column                 Non-Null Count  Dtype \n",
            "---  ------                 --------------  ----- \n",
            " 0   nama                   113 non-null    object\n",
            " 1   jk                     113 non-null    object\n",
            " 2   usia                   113 non-null    object\n",
            " 3   lama                   112 non-null    object\n",
            " 4   kondisi                113 non-null    object\n",
            " 5   sakit_gigi             113 non-null    object\n",
            " 6   frekuensi_sakit        92 non-null     object\n",
            " 7   masalah_gigi           113 non-null    object\n",
            " 8   gigi_berlubang         113 non-null    object\n",
            " 9   intensitas_gosok_gigi  113 non-null    object\n",
            " 10  harga                  113 non-null    object\n",
            " 11  reaksi_negatif         113 non-null    object\n",
            " 12  range_warna_gigi       113 non-null    object\n",
            " 13  merek                  113 non-null    object\n",
            "dtypes: object(14)\n",
            "memory usage: 13.2+ KB\n"
          ]
        },
        {
          "data": {
            "text/html": [
              "<div>\n",
              "<style scoped>\n",
              "    .dataframe tbody tr th:only-of-type {\n",
              "        vertical-align: middle;\n",
              "    }\n",
              "\n",
              "    .dataframe tbody tr th {\n",
              "        vertical-align: top;\n",
              "    }\n",
              "\n",
              "    .dataframe thead th {\n",
              "        text-align: right;\n",
              "    }\n",
              "</style>\n",
              "<table border=\"1\" class=\"dataframe\">\n",
              "  <thead>\n",
              "    <tr style=\"text-align: right;\">\n",
              "      <th></th>\n",
              "      <th>nama</th>\n",
              "      <th>jk</th>\n",
              "      <th>usia</th>\n",
              "      <th>lama</th>\n",
              "      <th>kondisi</th>\n",
              "      <th>sakit_gigi</th>\n",
              "      <th>frekuensi_sakit</th>\n",
              "      <th>masalah_gigi</th>\n",
              "      <th>gigi_berlubang</th>\n",
              "      <th>intensitas_gosok_gigi</th>\n",
              "      <th>harga</th>\n",
              "      <th>reaksi_negatif</th>\n",
              "      <th>range_warna_gigi</th>\n",
              "      <th>merek</th>\n",
              "    </tr>\n",
              "  </thead>\n",
              "  <tbody>\n",
              "    <tr>\n",
              "      <th>0</th>\n",
              "      <td>Muh Jadid Taqwa</td>\n",
              "      <td>Laki-Laki</td>\n",
              "      <td>24</td>\n",
              "      <td>&gt; 12 Bulan</td>\n",
              "      <td>Normal</td>\n",
              "      <td>Iya</td>\n",
              "      <td>Tidak pernah</td>\n",
              "      <td>Tidak Pernah</td>\n",
              "      <td>Ya</td>\n",
              "      <td>&gt;= 3 Kali</td>\n",
              "      <td>Ya</td>\n",
              "      <td>Tidak pernah</td>\n",
              "      <td>2</td>\n",
              "      <td>Colgate</td>\n",
              "    </tr>\n",
              "    <tr>\n",
              "      <th>1</th>\n",
              "      <td>Faaza</td>\n",
              "      <td>Perempuan</td>\n",
              "      <td>24</td>\n",
              "      <td>1 sd 3 Bulan</td>\n",
              "      <td>Normal</td>\n",
              "      <td>Iya</td>\n",
              "      <td>kadang-kadang</td>\n",
              "      <td>Pernah</td>\n",
              "      <td>Ya</td>\n",
              "      <td>2 Kali</td>\n",
              "      <td>Ya</td>\n",
              "      <td>Tidak pernah</td>\n",
              "      <td>4</td>\n",
              "      <td>Pepsodent</td>\n",
              "    </tr>\n",
              "    <tr>\n",
              "      <th>2</th>\n",
              "      <td>Dinne elza zakiah</td>\n",
              "      <td>Perempuan</td>\n",
              "      <td>22</td>\n",
              "      <td>&gt; 12 Bulan</td>\n",
              "      <td>Sensitif</td>\n",
              "      <td>Iya</td>\n",
              "      <td>Jarang</td>\n",
              "      <td>Pernah</td>\n",
              "      <td>Ya</td>\n",
              "      <td>&gt;= 3 Kali</td>\n",
              "      <td>Tidak</td>\n",
              "      <td>Tidak pernah</td>\n",
              "      <td>6</td>\n",
              "      <td>Ciptadent</td>\n",
              "    </tr>\n",
              "    <tr>\n",
              "      <th>3</th>\n",
              "      <td>Baiq Nur'ainna Sultia</td>\n",
              "      <td>Perempuan</td>\n",
              "      <td>24</td>\n",
              "      <td>&gt; 12 Bulan</td>\n",
              "      <td>Normal</td>\n",
              "      <td>Iya</td>\n",
              "      <td>kadang-kadang</td>\n",
              "      <td>Pernah</td>\n",
              "      <td>Ya</td>\n",
              "      <td>1 kali</td>\n",
              "      <td>Tidak</td>\n",
              "      <td>Tidak pernah</td>\n",
              "      <td>5</td>\n",
              "      <td>Pepsodent</td>\n",
              "    </tr>\n",
              "    <tr>\n",
              "      <th>4</th>\n",
              "      <td>Alia Rahmadani</td>\n",
              "      <td>Perempuan</td>\n",
              "      <td>31</td>\n",
              "      <td>&gt; 12 Bulan</td>\n",
              "      <td>Normal</td>\n",
              "      <td>Iya</td>\n",
              "      <td>Jarang</td>\n",
              "      <td>Pernah</td>\n",
              "      <td>Ya</td>\n",
              "      <td>2 Kali</td>\n",
              "      <td>Tidak</td>\n",
              "      <td>Tidak pernah</td>\n",
              "      <td>9</td>\n",
              "      <td>Pepsodent</td>\n",
              "    </tr>\n",
              "  </tbody>\n",
              "</table>\n",
              "</div>"
            ],
            "text/plain": [
              "                    nama         jk usia          lama   kondisi sakit_gigi  \\\n",
              "0        Muh Jadid Taqwa  Laki-Laki   24    > 12 Bulan    Normal        Iya   \n",
              "1                  Faaza  Perempuan   24  1 sd 3 Bulan    Normal        Iya   \n",
              "2      Dinne elza zakiah  Perempuan   22    > 12 Bulan  Sensitif        Iya   \n",
              "3  Baiq Nur'ainna Sultia  Perempuan   24    > 12 Bulan    Normal        Iya   \n",
              "4         Alia Rahmadani  Perempuan   31    > 12 Bulan    Normal        Iya   \n",
              "\n",
              "  frekuensi_sakit  masalah_gigi gigi_berlubang intensitas_gosok_gigi  harga  \\\n",
              "0    Tidak pernah  Tidak Pernah             Ya             >= 3 Kali     Ya   \n",
              "1   kadang-kadang        Pernah             Ya                2 Kali     Ya   \n",
              "2          Jarang        Pernah             Ya             >= 3 Kali  Tidak   \n",
              "3   kadang-kadang        Pernah             Ya                1 kali  Tidak   \n",
              "4          Jarang        Pernah             Ya                2 Kali  Tidak   \n",
              "\n",
              "  reaksi_negatif range_warna_gigi      merek  \n",
              "0   Tidak pernah                2    Colgate  \n",
              "1   Tidak pernah                4  Pepsodent  \n",
              "2   Tidak pernah                6  Ciptadent  \n",
              "3   Tidak pernah                5  Pepsodent  \n",
              "4   Tidak pernah                9  Pepsodent  "
            ]
          },
          "execution_count": 11,
          "metadata": {},
          "output_type": "execute_result"
        }
      ],
      "source": [
        "df.info()\n",
        "df.head()"
      ]
    },
    {
      "cell_type": "code",
      "execution_count": null,
      "metadata": {
        "id": "XkrjzBsi3arx"
      },
      "outputs": [],
      "source": [
        "# Isi data null pada frekuensi_sakit dengan \"Tidak pernah\"\n",
        "df['frekuensi_sakit'].fillna('Tidak pernah', inplace=True)"
      ]
    },
    {
      "cell_type": "code",
      "execution_count": null,
      "metadata": {
        "id": "aD-hEgey3f_t"
      },
      "outputs": [],
      "source": [
        "# Isi data null pada lama dengan \">=12 Bulan\"\n",
        "df['lama'].fillna('>=12 Bulan', inplace=True)"
      ]
    },
    {
      "cell_type": "code",
      "execution_count": null,
      "metadata": {
        "id": "r5cmOZXL3kZB"
      },
      "outputs": [],
      "source": [
        "# Mengubah dataset jk\n",
        "df['jk'] = df['jk'].map({'Laki-Laki': 1, 'Perempuan': 2})"
      ]
    },
    {
      "cell_type": "code",
      "execution_count": null,
      "metadata": {
        "id": "E2E6j6VP3qKb"
      },
      "outputs": [],
      "source": [
        "# Pra-pemrosesan kolom usia untuk mengambil nilai numerik dengan str.extract('(\\d+)')\n",
        "df['usia'] = df['usia'].str.extract('(\\d+)').astype(float)"
      ]
    },
    {
      "cell_type": "code",
      "execution_count": null,
      "metadata": {
        "id": "6fYxQZQT3sJL"
      },
      "outputs": [],
      "source": [
        "# Mengubah  dataset usia setelah pra-pemrosesan\n",
        "df['usia'] = pd.cut(df['usia'], bins=[-float('inf'), 20, 40, float('inf')], labels=[0, 1, 2], right=True)"
      ]
    },
    {
      "cell_type": "code",
      "execution_count": null,
      "metadata": {
        "id": "Em3nQAex3vqM"
      },
      "outputs": [],
      "source": [
        "# Fungsi untuk mengonversi lama menjadi kategori\n",
        "def convert_to_category(value):\n",
        "     try:\n",
        "         # Pemeriksaan apakah value adalah string\n",
        "         if isinstance(value, str):\n",
        "             if '1 sd 3 Bulan' in value:\n",
        "                 return 0\n",
        "             elif '3 sd 6 Bulan' in value:\n",
        "                 return 1\n",
        "             elif '6 sd 12 Bulan' in value:\n",
        "                 return 2\n",
        "             else:\n",
        "                 return 3\n",
        "         else:\n",
        "             # Jika bukan string, kembalikan nilai asli atau atur sesuai kebutuhan\n",
        "             return value\n",
        "     except TypeError:\n",
        "         return None"
      ]
    },
    {
      "cell_type": "code",
      "execution_count": null,
      "metadata": {
        "id": "FnoP-7tW35lS"
      },
      "outputs": [],
      "source": [
        "# Menggunakan fungsi convert_to_category untuk mengonversi kolom 'lama'\n",
        "df['lama'] = df['lama'].apply(convert_to_category)"
      ]
    },
    {
      "cell_type": "code",
      "execution_count": null,
      "metadata": {
        "id": "xP-jEjPZ3-Jj"
      },
      "outputs": [],
      "source": [
        "# Mengubah dataset kondisi\n",
        "df['kondisi'] = df['kondisi'].map({'Normal': 1, 'Sensitif': 2})"
      ]
    },
    {
      "cell_type": "code",
      "execution_count": null,
      "metadata": {
        "id": "CwEKiyb34A66"
      },
      "outputs": [],
      "source": [
        "# Mengubah dataset sakit_gigi\n",
        "df['sakit_gigi'] = df['sakit_gigi'].map({'Iya': 1, 'Tidak': 0})"
      ]
    },
    {
      "cell_type": "code",
      "execution_count": null,
      "metadata": {
        "id": "9A8t3Fm-4D5S"
      },
      "outputs": [],
      "source": [
        "# Mengubah dataset frekuensi_sakit\n",
        "df['frekuensi_sakit'] = df['frekuensi_sakit'].map({'Tidak pernah': 0, 'Jarang': 1, 'kadang-kadang': 2, 'Sering': 3})"
      ]
    },
    {
      "cell_type": "code",
      "execution_count": null,
      "metadata": {
        "id": "MiXjkog04KeQ"
      },
      "outputs": [],
      "source": [
        "# Mengubah dataset range_warna_gigi selain numerik menjadi angka 10\n",
        "df['range_warna_gigi'] = df['range_warna_gigi'].apply(lambda x: 10 if not str(x).isdigit() else int(x))"
      ]
    },
    {
      "cell_type": "code",
      "execution_count": null,
      "metadata": {
        "id": "Ivb-asuR4NR3"
      },
      "outputs": [],
      "source": [
        "# Melakukan konversi kolom menjadi tipe data numerik\n",
        "df['range_warna_gigi'] = pd.to_numeric(df['range_warna_gigi'], errors='coerce')"
      ]
    },
    {
      "cell_type": "code",
      "execution_count": null,
      "metadata": {
        "id": "AEaeevym4PEu"
      },
      "outputs": [],
      "source": [
        "# Mengisi data null pada range_warna_gigi dengan nilai 10\n",
        "df['range_warna_gigi'].fillna(10, inplace=True)"
      ]
    },
    {
      "cell_type": "code",
      "execution_count": null,
      "metadata": {
        "id": "76Ai7wyR4Rhr"
      },
      "outputs": [],
      "source": [
        "# Mengubah kembali ke tipe data kategori jika diperlukan\n",
        "df['range_warna_gigi'] = pd.Categorical(df['range_warna_gigi'])"
      ]
    },
    {
      "cell_type": "code",
      "execution_count": null,
      "metadata": {
        "id": "Ga8687Ja4Vux"
      },
      "outputs": [],
      "source": [
        "# Mengubah  dataset range_warna_gigi setelah pra-pemrosesan <=5 = 0, 6-10 = 1, 11-15 = 2, 16-20 = 3, >20 = 4\n",
        "df['range_warna_gigi'] = pd.cut(df['range_warna_gigi'], bins=[-float('inf'), 5, 10, 15, 20, float('inf')], labels=[0, 1, 2, 3, 4], right=True)"
      ]
    },
    {
      "cell_type": "code",
      "execution_count": null,
      "metadata": {
        "id": "e6K2jY0s4Xyk"
      },
      "outputs": [],
      "source": [
        "# Mengubah dataset masalah_gigi\n",
        "df['masalah_gigi'] = df['masalah_gigi'].map({'Pernah': 1, 'Tidak Pernah': 0})"
      ]
    },
    {
      "cell_type": "code",
      "execution_count": null,
      "metadata": {
        "id": "-fvEJfQ94bnq"
      },
      "outputs": [],
      "source": [
        "# Mengubah dataset gigi_berlubang\n",
        "df['gigi_berlubang'] = df['gigi_berlubang'].map({'Ya': 1, 'Tidak': 0})"
      ]
    },
    {
      "cell_type": "code",
      "execution_count": null,
      "metadata": {
        "id": "62r64qfc4nRg"
      },
      "outputs": [],
      "source": [
        "#Fungsi untuk mengonversi intensitas_gosok_gigi menjadi kategori\n",
        "def convert_to_category(value):\n",
        "     if '1 Kali' in value:\n",
        "         return 1\n",
        "     elif '2 Kali' in value:\n",
        "         return 2\n",
        "     else:\n",
        "         return 3"
      ]
    },
    {
      "cell_type": "code",
      "execution_count": null,
      "metadata": {
        "id": "jPkOTfte4t44"
      },
      "outputs": [],
      "source": [
        "# Menggunakan fungsi convert_to_category untuk mengonversi kolom 'intensitas_gosok_gigi'\n",
        "df['intensitas_gosok_gigi'] = df['intensitas_gosok_gigi'].apply(convert_to_category)"
      ]
    },
    {
      "cell_type": "code",
      "execution_count": null,
      "metadata": {
        "id": "M-jR292x4xuA"
      },
      "outputs": [],
      "source": [
        "# Mengubah dataset reaksi_negatif\n",
        "df['reaksi_negatif'] = df['reaksi_negatif'].map({'Pernah': 1, 'Tidak pernah': 0})"
      ]
    },
    {
      "cell_type": "code",
      "execution_count": null,
      "metadata": {
        "id": "n76lDzXu40Dm"
      },
      "outputs": [],
      "source": [
        "# Mengubah dataset preferensi_harga\n",
        "df['harga'] = df['harga'].map({'Tidak': 0, 'Ya': 1})"
      ]
    },
    {
      "cell_type": "code",
      "execution_count": null,
      "metadata": {
        "id": "7KG6HOzn43jP"
      },
      "outputs": [],
      "source": [
        "# Mengubah dataset merek\n",
        "df['merek'] = df['merek'].map({'Ciptadent': 1, 'CloseUp': 2, 'Colgate': 3, 'Lainnya': 6, 'Pepsodent': 4, 'Sensodyne': 5})"
      ]
    },
    {
      "cell_type": "code",
      "execution_count": null,
      "metadata": {
        "id": "fjI9YZaT46d5"
      },
      "outputs": [],
      "source": [
        "# Menghapus kolom dengan nama 'nama_kolom'\n",
        "df = df.drop('nama', axis=1)"
      ]
    },
    {
      "cell_type": "code",
      "execution_count": null,
      "metadata": {
        "id": "3L2EWoAW49Av"
      },
      "outputs": [],
      "source": [
        "# Mengubah tipe data seluruh dataset dari object menjadi int dan menangani nilai non-numerik\n",
        "df = df.apply(pd.to_numeric, errors='coerce').astype('Int64')"
      ]
    },
    {
      "cell_type": "code",
      "execution_count": null,
      "metadata": {
        "colab": {
          "base_uri": "https://localhost:8080/",
          "height": 791
        },
        "id": "WIClw6e45AX2",
        "outputId": "63a18b0a-f457-403b-add4-88db58cec293"
      },
      "outputs": [
        {
          "name": "stdout",
          "output_type": "stream",
          "text": [
            "<class 'pandas.core.frame.DataFrame'>\n",
            "Index: 113 entries, 0 to 113\n",
            "Data columns (total 13 columns):\n",
            " #   Column                 Non-Null Count  Dtype\n",
            "---  ------                 --------------  -----\n",
            " 0   jk                     113 non-null    Int64\n",
            " 1   usia                   113 non-null    Int64\n",
            " 2   lama                   113 non-null    Int64\n",
            " 3   kondisi                113 non-null    Int64\n",
            " 4   sakit_gigi             113 non-null    Int64\n",
            " 5   frekuensi_sakit        113 non-null    Int64\n",
            " 6   masalah_gigi           113 non-null    Int64\n",
            " 7   gigi_berlubang         113 non-null    Int64\n",
            " 8   intensitas_gosok_gigi  113 non-null    Int64\n",
            " 9   harga                  113 non-null    Int64\n",
            " 10  reaksi_negatif         113 non-null    Int64\n",
            " 11  range_warna_gigi       113 non-null    Int64\n",
            " 12  merek                  113 non-null    Int64\n",
            "dtypes: Int64(13)\n",
            "memory usage: 13.8 KB\n"
          ]
        },
        {
          "data": {
            "text/html": [
              "<div>\n",
              "<style scoped>\n",
              "    .dataframe tbody tr th:only-of-type {\n",
              "        vertical-align: middle;\n",
              "    }\n",
              "\n",
              "    .dataframe tbody tr th {\n",
              "        vertical-align: top;\n",
              "    }\n",
              "\n",
              "    .dataframe thead th {\n",
              "        text-align: right;\n",
              "    }\n",
              "</style>\n",
              "<table border=\"1\" class=\"dataframe\">\n",
              "  <thead>\n",
              "    <tr style=\"text-align: right;\">\n",
              "      <th></th>\n",
              "      <th>jk</th>\n",
              "      <th>usia</th>\n",
              "      <th>lama</th>\n",
              "      <th>kondisi</th>\n",
              "      <th>sakit_gigi</th>\n",
              "      <th>frekuensi_sakit</th>\n",
              "      <th>masalah_gigi</th>\n",
              "      <th>gigi_berlubang</th>\n",
              "      <th>intensitas_gosok_gigi</th>\n",
              "      <th>harga</th>\n",
              "      <th>reaksi_negatif</th>\n",
              "      <th>range_warna_gigi</th>\n",
              "      <th>merek</th>\n",
              "    </tr>\n",
              "  </thead>\n",
              "  <tbody>\n",
              "    <tr>\n",
              "      <th>0</th>\n",
              "      <td>1</td>\n",
              "      <td>1</td>\n",
              "      <td>3</td>\n",
              "      <td>1</td>\n",
              "      <td>1</td>\n",
              "      <td>0</td>\n",
              "      <td>0</td>\n",
              "      <td>1</td>\n",
              "      <td>3</td>\n",
              "      <td>1</td>\n",
              "      <td>0</td>\n",
              "      <td>0</td>\n",
              "      <td>3</td>\n",
              "    </tr>\n",
              "    <tr>\n",
              "      <th>1</th>\n",
              "      <td>2</td>\n",
              "      <td>1</td>\n",
              "      <td>0</td>\n",
              "      <td>1</td>\n",
              "      <td>1</td>\n",
              "      <td>2</td>\n",
              "      <td>1</td>\n",
              "      <td>1</td>\n",
              "      <td>2</td>\n",
              "      <td>1</td>\n",
              "      <td>0</td>\n",
              "      <td>0</td>\n",
              "      <td>4</td>\n",
              "    </tr>\n",
              "    <tr>\n",
              "      <th>2</th>\n",
              "      <td>2</td>\n",
              "      <td>1</td>\n",
              "      <td>3</td>\n",
              "      <td>2</td>\n",
              "      <td>1</td>\n",
              "      <td>1</td>\n",
              "      <td>1</td>\n",
              "      <td>1</td>\n",
              "      <td>3</td>\n",
              "      <td>0</td>\n",
              "      <td>0</td>\n",
              "      <td>1</td>\n",
              "      <td>1</td>\n",
              "    </tr>\n",
              "    <tr>\n",
              "      <th>3</th>\n",
              "      <td>2</td>\n",
              "      <td>1</td>\n",
              "      <td>3</td>\n",
              "      <td>1</td>\n",
              "      <td>1</td>\n",
              "      <td>2</td>\n",
              "      <td>1</td>\n",
              "      <td>1</td>\n",
              "      <td>3</td>\n",
              "      <td>0</td>\n",
              "      <td>0</td>\n",
              "      <td>0</td>\n",
              "      <td>4</td>\n",
              "    </tr>\n",
              "    <tr>\n",
              "      <th>4</th>\n",
              "      <td>2</td>\n",
              "      <td>1</td>\n",
              "      <td>3</td>\n",
              "      <td>1</td>\n",
              "      <td>1</td>\n",
              "      <td>1</td>\n",
              "      <td>1</td>\n",
              "      <td>1</td>\n",
              "      <td>2</td>\n",
              "      <td>0</td>\n",
              "      <td>0</td>\n",
              "      <td>1</td>\n",
              "      <td>4</td>\n",
              "    </tr>\n",
              "    <tr>\n",
              "      <th>...</th>\n",
              "      <td>...</td>\n",
              "      <td>...</td>\n",
              "      <td>...</td>\n",
              "      <td>...</td>\n",
              "      <td>...</td>\n",
              "      <td>...</td>\n",
              "      <td>...</td>\n",
              "      <td>...</td>\n",
              "      <td>...</td>\n",
              "      <td>...</td>\n",
              "      <td>...</td>\n",
              "      <td>...</td>\n",
              "      <td>...</td>\n",
              "    </tr>\n",
              "    <tr>\n",
              "      <th>108</th>\n",
              "      <td>1</td>\n",
              "      <td>1</td>\n",
              "      <td>0</td>\n",
              "      <td>1</td>\n",
              "      <td>1</td>\n",
              "      <td>1</td>\n",
              "      <td>1</td>\n",
              "      <td>1</td>\n",
              "      <td>3</td>\n",
              "      <td>0</td>\n",
              "      <td>0</td>\n",
              "      <td>2</td>\n",
              "      <td>4</td>\n",
              "    </tr>\n",
              "    <tr>\n",
              "      <th>109</th>\n",
              "      <td>1</td>\n",
              "      <td>1</td>\n",
              "      <td>3</td>\n",
              "      <td>1</td>\n",
              "      <td>1</td>\n",
              "      <td>1</td>\n",
              "      <td>1</td>\n",
              "      <td>1</td>\n",
              "      <td>3</td>\n",
              "      <td>1</td>\n",
              "      <td>0</td>\n",
              "      <td>2</td>\n",
              "      <td>4</td>\n",
              "    </tr>\n",
              "    <tr>\n",
              "      <th>111</th>\n",
              "      <td>2</td>\n",
              "      <td>1</td>\n",
              "      <td>3</td>\n",
              "      <td>1</td>\n",
              "      <td>0</td>\n",
              "      <td>0</td>\n",
              "      <td>1</td>\n",
              "      <td>1</td>\n",
              "      <td>2</td>\n",
              "      <td>1</td>\n",
              "      <td>0</td>\n",
              "      <td>3</td>\n",
              "      <td>4</td>\n",
              "    </tr>\n",
              "    <tr>\n",
              "      <th>112</th>\n",
              "      <td>1</td>\n",
              "      <td>1</td>\n",
              "      <td>2</td>\n",
              "      <td>1</td>\n",
              "      <td>1</td>\n",
              "      <td>2</td>\n",
              "      <td>0</td>\n",
              "      <td>1</td>\n",
              "      <td>3</td>\n",
              "      <td>1</td>\n",
              "      <td>0</td>\n",
              "      <td>0</td>\n",
              "      <td>5</td>\n",
              "    </tr>\n",
              "    <tr>\n",
              "      <th>113</th>\n",
              "      <td>1</td>\n",
              "      <td>1</td>\n",
              "      <td>3</td>\n",
              "      <td>1</td>\n",
              "      <td>1</td>\n",
              "      <td>1</td>\n",
              "      <td>1</td>\n",
              "      <td>1</td>\n",
              "      <td>2</td>\n",
              "      <td>1</td>\n",
              "      <td>0</td>\n",
              "      <td>0</td>\n",
              "      <td>4</td>\n",
              "    </tr>\n",
              "  </tbody>\n",
              "</table>\n",
              "<p>113 rows × 13 columns</p>\n",
              "</div>"
            ],
            "text/plain": [
              "     jk  usia  lama  kondisi  sakit_gigi  frekuensi_sakit  masalah_gigi  \\\n",
              "0     1     1     3        1           1                0             0   \n",
              "1     2     1     0        1           1                2             1   \n",
              "2     2     1     3        2           1                1             1   \n",
              "3     2     1     3        1           1                2             1   \n",
              "4     2     1     3        1           1                1             1   \n",
              "..   ..   ...   ...      ...         ...              ...           ...   \n",
              "108   1     1     0        1           1                1             1   \n",
              "109   1     1     3        1           1                1             1   \n",
              "111   2     1     3        1           0                0             1   \n",
              "112   1     1     2        1           1                2             0   \n",
              "113   1     1     3        1           1                1             1   \n",
              "\n",
              "     gigi_berlubang  intensitas_gosok_gigi  harga  reaksi_negatif  \\\n",
              "0                 1                      3      1               0   \n",
              "1                 1                      2      1               0   \n",
              "2                 1                      3      0               0   \n",
              "3                 1                      3      0               0   \n",
              "4                 1                      2      0               0   \n",
              "..              ...                    ...    ...             ...   \n",
              "108               1                      3      0               0   \n",
              "109               1                      3      1               0   \n",
              "111               1                      2      1               0   \n",
              "112               1                      3      1               0   \n",
              "113               1                      2      1               0   \n",
              "\n",
              "     range_warna_gigi  merek  \n",
              "0                   0      3  \n",
              "1                   0      4  \n",
              "2                   1      1  \n",
              "3                   0      4  \n",
              "4                   1      4  \n",
              "..                ...    ...  \n",
              "108                 2      4  \n",
              "109                 2      4  \n",
              "111                 3      4  \n",
              "112                 0      5  \n",
              "113                 0      4  \n",
              "\n",
              "[113 rows x 13 columns]"
            ]
          },
          "execution_count": 36,
          "metadata": {},
          "output_type": "execute_result"
        }
      ],
      "source": [
        "df.info()\n",
        "# Menampilkan DataFrame setelah transformasi\n",
        "df.head(len(df))"
      ]
    },
    {
      "cell_type": "markdown",
      "metadata": {
        "id": "9rkh8-Ih8TUi"
      },
      "source": [
        "## DATA MODELLING"
      ]
    },
    {
      "cell_type": "markdown",
      "metadata": {
        "id": "UYXD0lDGMNmh"
      },
      "source": [
        "Karakteristik data yang dapat ditangani dengan Algoritma Random Forest yaitu dataset dengan banyak fitur, ketidakseimbangan kelas, campuran tipe variabel, dan adanya outliers. Random Forest cenderung menghasilkan akurasi tinggi karena membangun beberapa pohon keputusan dan menggabungkan hasil dengan mengatasi overfitting, mampu menangani data tidak seimbang, tipe data campuran, fitur yang banyak tanpa perlu pemrosesan, dan cenderung memiliki stabilitas model yang cukup meskipun terdapat perubahan pada dataset."
      ]
    },
    {
      "cell_type": "code",
      "execution_count": null,
      "metadata": {
        "id": "F9WVt6wS5H_z"
      },
      "outputs": [],
      "source": [
        "from sklearn.ensemble import RandomForestClassifier"
      ]
    },
    {
      "cell_type": "code",
      "execution_count": null,
      "metadata": {
        "id": "Yrkn1OoH8l-c"
      },
      "outputs": [],
      "source": [
        "# Mengganti RandomForestClassifier dengan model yang sesuai\n",
        "model = RandomForestClassifier()"
      ]
    },
    {
      "cell_type": "code",
      "execution_count": null,
      "metadata": {
        "id": "nFu0T9dI8o_y"
      },
      "outputs": [],
      "source": [
        "# Menentukan target variabel\n",
        "target_variable = 'merek'\n",
        "X = df.drop(target_variable, axis=1)\n",
        "y = df[target_variable]"
      ]
    },
    {
      "cell_type": "code",
      "execution_count": null,
      "metadata": {
        "id": "jt3l4vUi8qyt"
      },
      "outputs": [],
      "source": [
        "# Kolom yang akan digunakan dalam model\n",
        "selected_columns = ['kondisi', 'sakit_gigi', 'frekuensi_sakit', 'masalah_gigi', 'gigi_berlubang', 'harga', 'reaksi_negatif', 'range_warna_gigi']\n",
        "X_subset = X[selected_columns]"
      ]
    },
    {
      "cell_type": "code",
      "execution_count": null,
      "metadata": {
        "colab": {
          "base_uri": "https://localhost:8080/",
          "height": 75
        },
        "id": "h1Efd2KF8skt",
        "outputId": "4be606cb-8adb-4f92-fa33-0c21a1667e3e"
      },
      "outputs": [
        {
          "data": {
            "text/html": [
              "<style>#sk-container-id-1 {color: black;}#sk-container-id-1 pre{padding: 0;}#sk-container-id-1 div.sk-toggleable {background-color: white;}#sk-container-id-1 label.sk-toggleable__label {cursor: pointer;display: block;width: 100%;margin-bottom: 0;padding: 0.3em;box-sizing: border-box;text-align: center;}#sk-container-id-1 label.sk-toggleable__label-arrow:before {content: \"▸\";float: left;margin-right: 0.25em;color: #696969;}#sk-container-id-1 label.sk-toggleable__label-arrow:hover:before {color: black;}#sk-container-id-1 div.sk-estimator:hover label.sk-toggleable__label-arrow:before {color: black;}#sk-container-id-1 div.sk-toggleable__content {max-height: 0;max-width: 0;overflow: hidden;text-align: left;background-color: #f0f8ff;}#sk-container-id-1 div.sk-toggleable__content pre {margin: 0.2em;color: black;border-radius: 0.25em;background-color: #f0f8ff;}#sk-container-id-1 input.sk-toggleable__control:checked~div.sk-toggleable__content {max-height: 200px;max-width: 100%;overflow: auto;}#sk-container-id-1 input.sk-toggleable__control:checked~label.sk-toggleable__label-arrow:before {content: \"▾\";}#sk-container-id-1 div.sk-estimator input.sk-toggleable__control:checked~label.sk-toggleable__label {background-color: #d4ebff;}#sk-container-id-1 div.sk-label input.sk-toggleable__control:checked~label.sk-toggleable__label {background-color: #d4ebff;}#sk-container-id-1 input.sk-hidden--visually {border: 0;clip: rect(1px 1px 1px 1px);clip: rect(1px, 1px, 1px, 1px);height: 1px;margin: -1px;overflow: hidden;padding: 0;position: absolute;width: 1px;}#sk-container-id-1 div.sk-estimator {font-family: monospace;background-color: #f0f8ff;border: 1px dotted black;border-radius: 0.25em;box-sizing: border-box;margin-bottom: 0.5em;}#sk-container-id-1 div.sk-estimator:hover {background-color: #d4ebff;}#sk-container-id-1 div.sk-parallel-item::after {content: \"\";width: 100%;border-bottom: 1px solid gray;flex-grow: 1;}#sk-container-id-1 div.sk-label:hover label.sk-toggleable__label {background-color: #d4ebff;}#sk-container-id-1 div.sk-serial::before {content: \"\";position: absolute;border-left: 1px solid gray;box-sizing: border-box;top: 0;bottom: 0;left: 50%;z-index: 0;}#sk-container-id-1 div.sk-serial {display: flex;flex-direction: column;align-items: center;background-color: white;padding-right: 0.2em;padding-left: 0.2em;position: relative;}#sk-container-id-1 div.sk-item {position: relative;z-index: 1;}#sk-container-id-1 div.sk-parallel {display: flex;align-items: stretch;justify-content: center;background-color: white;position: relative;}#sk-container-id-1 div.sk-item::before, #sk-container-id-1 div.sk-parallel-item::before {content: \"\";position: absolute;border-left: 1px solid gray;box-sizing: border-box;top: 0;bottom: 0;left: 50%;z-index: -1;}#sk-container-id-1 div.sk-parallel-item {display: flex;flex-direction: column;z-index: 1;position: relative;background-color: white;}#sk-container-id-1 div.sk-parallel-item:first-child::after {align-self: flex-end;width: 50%;}#sk-container-id-1 div.sk-parallel-item:last-child::after {align-self: flex-start;width: 50%;}#sk-container-id-1 div.sk-parallel-item:only-child::after {width: 0;}#sk-container-id-1 div.sk-dashed-wrapped {border: 1px dashed gray;margin: 0 0.4em 0.5em 0.4em;box-sizing: border-box;padding-bottom: 0.4em;background-color: white;}#sk-container-id-1 div.sk-label label {font-family: monospace;font-weight: bold;display: inline-block;line-height: 1.2em;}#sk-container-id-1 div.sk-label-container {text-align: center;}#sk-container-id-1 div.sk-container {/* jupyter's `normalize.less` sets `[hidden] { display: none; }` but bootstrap.min.css set `[hidden] { display: none !important; }` so we also need the `!important` here to be able to override the default hidden behavior on the sphinx rendered scikit-learn.org. See: https://github.com/scikit-learn/scikit-learn/issues/21755 */display: inline-block !important;position: relative;}#sk-container-id-1 div.sk-text-repr-fallback {display: none;}</style><div id=\"sk-container-id-1\" class=\"sk-top-container\"><div class=\"sk-text-repr-fallback\"><pre>RandomForestClassifier()</pre><b>In a Jupyter environment, please rerun this cell to show the HTML representation or trust the notebook. <br />On GitHub, the HTML representation is unable to render, please try loading this page with nbviewer.org.</b></div><div class=\"sk-container\" hidden><div class=\"sk-item\"><div class=\"sk-estimator sk-toggleable\"><input class=\"sk-toggleable__control sk-hidden--visually\" id=\"sk-estimator-id-1\" type=\"checkbox\" checked><label for=\"sk-estimator-id-1\" class=\"sk-toggleable__label sk-toggleable__label-arrow\">RandomForestClassifier</label><div class=\"sk-toggleable__content\"><pre>RandomForestClassifier()</pre></div></div></div></div></div>"
            ],
            "text/plain": [
              "RandomForestClassifier()"
            ]
          },
          "execution_count": 41,
          "metadata": {},
          "output_type": "execute_result"
        }
      ],
      "source": [
        "# Melatih model menggunakan subset kolom\n",
        "model.fit(X_subset, y)"
      ]
    },
    {
      "cell_type": "code",
      "execution_count": null,
      "metadata": {
        "id": "YsTYWLtr8vYB"
      },
      "outputs": [],
      "source": [
        "# Mendapatkan feature importance\n",
        "feature_importance = model.feature_importances_"
      ]
    },
    {
      "cell_type": "code",
      "execution_count": null,
      "metadata": {
        "id": "gBF9DJ-u8xYm"
      },
      "outputs": [],
      "source": [
        "# Menyusun data menjadi DataFrame untuk memudahkan analisis\n",
        "feature_importance_df = pd.DataFrame({'Feature': selected_columns, 'Importance': feature_importance})"
      ]
    },
    {
      "cell_type": "code",
      "execution_count": null,
      "metadata": {
        "colab": {
          "base_uri": "https://localhost:8080/",
          "height": 580
        },
        "id": "twvIw6Kn80To",
        "outputId": "a04071ca-3aa1-42e3-f9f7-b5c20ffcb1ef"
      },
      "outputs": [
        {
          "data": {
            "image/png": "[encoded data removed]",
            "text/plain": [
              "<Figure size 1000x600 with 1 Axes>"
            ]
          },
          "metadata": {},
          "output_type": "display_data"
        }
      ],
      "source": [
        "import matplotlib.pyplot as plt\n",
        "\n",
        "# Plot bar\n",
        "plt.figure(figsize=(10, 6))\n",
        "plt.bar(feature_importance_df['Feature'], feature_importance_df['Importance'], color='blue')\n",
        "plt.xlabel('Feature')\n",
        "plt.ylabel('Importance')\n",
        "plt.title('Feature Importance')\n",
        "plt.xticks(rotation=45, ha='right')\n",
        "plt.tight_layout()\n",
        "\n",
        "# Tampilkan plot\n",
        "plt.show()"
      ]
    },
    {
      "cell_type": "code",
      "execution_count": null,
      "metadata": {
        "id": "cTgcmkj6MNmi",
        "outputId": "78b56dab-058b-4ff1-b06a-c291b0b47519"
      },
      "outputs": [
        {
          "data": {
            "image/png": "[encoded data removed]",
            "text/plain": [
              "<Figure size 1600x1000 with 8 Axes>"
            ]
          },
          "metadata": {},
          "output_type": "display_data"
        }
      ],
      "source": [
        "import matplotlib.pyplot as plt\n",
        "import seaborn as sns\n",
        "\n",
        "# Kolom yang akan digunakan dalam model\n",
        "selected_columns = ['kondisi', 'sakit_gigi', 'frekuensi_sakit', 'masalah_gigi', 'gigi_berlubang', 'harga', 'reaksi_negatif', 'range_warna_gigi']\n",
        "\n",
        "# Menampilkan box plot untuk setiap fitur dengan target variabel merek\n",
        "plt.figure(figsize=(16, 10))\n",
        "for i, column in enumerate(selected_columns, 1):\n",
        "    plt.subplot(3, 3, i)\n",
        "\n",
        "    # Box plot dengan target variabel merek\n",
        "    sns.boxplot(x='merek', y=column, data=df, palette='viridis')\n",
        "\n",
        "    # Deteksi dan penandaan outlier\n",
        "    q1 = df[column].quantile(0.25)\n",
        "    q3 = df[column].quantile(0.75)\n",
        "    iqr = q3 - q1\n",
        "    lower_bound = q1 - 1.5 * iqr\n",
        "    upper_bound = q3 + 1.5 * iqr\n",
        "\n",
        "    outliers = df[(df[column] < lower_bound) | (df[column] > upper_bound)]\n",
        "    plt.scatter(outliers['merek'], outliers[column], color='red', marker='o', label='Outlier')\n",
        "\n",
        "    plt.title(f'Box Plot for {column} by merek')\n",
        "    plt.legend()\n",
        "\n",
        "plt.tight_layout()\n",
        "plt.show()\n"
      ]
    },
    {
      "cell_type": "code",
      "execution_count": null,
      "metadata": {
        "id": "wDfKpQgmMNmi",
        "outputId": "f0458710-8a53-4b9c-da67-1a3d5044f24a"
      },
      "outputs": [
        {
          "data": {
            "image/png": "[encoded data removed]",
            "text/plain": [
              "<Figure size 1200x600 with 1 Axes>"
            ]
          },
          "metadata": {},
          "output_type": "display_data"
        }
      ],
      "source": [
        "from sklearn.preprocessing import StandardScaler\n",
        "from scipy.stats import boxcox\n",
        "\n",
        "# Identifikasi dan penghapusan outlier menggunakan Z-Score\n",
        "def identify_and_remove_outliers(data, threshold=3):\n",
        "    z_scores = np.abs((data - data.mean()) / data.std())\n",
        "    outliers = (z_scores > threshold).all(axis=1)\n",
        "    data_no_outliers = data[~outliers]\n",
        "    return data_no_outliers\n",
        "\n",
        "# Normalisasi menggunakan Min-Max\n",
        "def normalize_data(data):\n",
        "    scaler = StandardScaler()\n",
        "    normalized_data = scaler.fit_transform(data)\n",
        "    return normalized_data\n",
        "\n",
        "# Transformasi Box-Cox\n",
        "def apply_boxcox_transform(data):\n",
        "    transformed_data = np.zeros_like(data)\n",
        "    for i in range(data.shape[1]):\n",
        "        transformed_data[:, i], _ = boxcox(data[:, i] + 1)  # Menambah 1 untuk menghindari nilai 0\n",
        "    return transformed_data\n",
        "\n",
        "# Fitur yang akan digunakan\n",
        "features = ['frekuensi_sakit', 'harga']\n",
        "\n",
        "# Identifikasi dan penghapusan outlier\n",
        "X_train_no_outliers = identify_and_remove_outliers(X_train_undersampled[features])\n",
        "\n",
        "# Normalisasi data yang telah dihapus outlier\n",
        "X_train_normalized = normalize_data(X_train_no_outliers)\n",
        "\n",
        "# Transformasi Box-Cox pada data yang telah dihapus outlier\n",
        "X_train_boxcox = apply_boxcox_transform(X_train_normalized)\n",
        "\n",
        "# Scatter plot setelah identifikasi outlier, normalisasi, dan transformasi Box-Cox\n",
        "plt.figure(figsize=(12, 6))\n",
        "sns.scatterplot(x=X_train_boxcox[:, 0], y=X_train_boxcox[:, 1], hue=y_train_undersampled[X_train_no_outliers.index], palette='viridis', alpha=0.7)\n",
        "plt.title('Scatter Plot After Outlier Removal, Normalization, and Box-Cox Transformation')\n",
        "plt.xlabel('Transformed frekuensi_sakit')\n",
        "plt.ylabel('Transformed harga')\n",
        "plt.show()\n"
      ]
    },
    {
      "cell_type": "markdown",
      "metadata": {
        "id": "atKfst6XMNmi"
      },
      "source": [
        "## EVALUASI\n",
        "\n",
        "Mengukur akurasi prediksi dan mengidentifikasi apakah model memenuhi syarat untuk diimplementasikan dalam prediksi"
      ]
    },
    {
      "cell_type": "code",
      "execution_count": null,
      "metadata": {
        "id": "EvcRCEBX_z9c"
      },
      "outputs": [],
      "source": [
        "# Pisahkan data menjadi fitur (X) dan label (y)\n",
        "X = df.drop('merek', axis=1)\n",
        "y = df['merek']"
      ]
    },
    {
      "cell_type": "code",
      "execution_count": null,
      "metadata": {
        "colab": {
          "base_uri": "https://localhost:8080/",
          "height": 75
        },
        "id": "uwpEQAY1_2-M",
        "outputId": "dc9e4fae-b156-465f-8ebe-dcde3800fa48"
      },
      "outputs": [
        {
          "data": {
            "text/html": [
              "<style>#sk-container-id-2 {color: black;}#sk-container-id-2 pre{padding: 0;}#sk-container-id-2 div.sk-toggleable {background-color: white;}#sk-container-id-2 label.sk-toggleable__label {cursor: pointer;display: block;width: 100%;margin-bottom: 0;padding: 0.3em;box-sizing: border-box;text-align: center;}#sk-container-id-2 label.sk-toggleable__label-arrow:before {content: \"▸\";float: left;margin-right: 0.25em;color: #696969;}#sk-container-id-2 label.sk-toggleable__label-arrow:hover:before {color: black;}#sk-container-id-2 div.sk-estimator:hover label.sk-toggleable__label-arrow:before {color: black;}#sk-container-id-2 div.sk-toggleable__content {max-height: 0;max-width: 0;overflow: hidden;text-align: left;background-color: #f0f8ff;}#sk-container-id-2 div.sk-toggleable__content pre {margin: 0.2em;color: black;border-radius: 0.25em;background-color: #f0f8ff;}#sk-container-id-2 input.sk-toggleable__control:checked~div.sk-toggleable__content {max-height: 200px;max-width: 100%;overflow: auto;}#sk-container-id-2 input.sk-toggleable__control:checked~label.sk-toggleable__label-arrow:before {content: \"▾\";}#sk-container-id-2 div.sk-estimator input.sk-toggleable__control:checked~label.sk-toggleable__label {background-color: #d4ebff;}#sk-container-id-2 div.sk-label input.sk-toggleable__control:checked~label.sk-toggleable__label {background-color: #d4ebff;}#sk-container-id-2 input.sk-hidden--visually {border: 0;clip: rect(1px 1px 1px 1px);clip: rect(1px, 1px, 1px, 1px);height: 1px;margin: -1px;overflow: hidden;padding: 0;position: absolute;width: 1px;}#sk-container-id-2 div.sk-estimator {font-family: monospace;background-color: #f0f8ff;border: 1px dotted black;border-radius: 0.25em;box-sizing: border-box;margin-bottom: 0.5em;}#sk-container-id-2 div.sk-estimator:hover {background-color: #d4ebff;}#sk-container-id-2 div.sk-parallel-item::after {content: \"\";width: 100%;border-bottom: 1px solid gray;flex-grow: 1;}#sk-container-id-2 div.sk-label:hover label.sk-toggleable__label {background-color: #d4ebff;}#sk-container-id-2 div.sk-serial::before {content: \"\";position: absolute;border-left: 1px solid gray;box-sizing: border-box;top: 0;bottom: 0;left: 50%;z-index: 0;}#sk-container-id-2 div.sk-serial {display: flex;flex-direction: column;align-items: center;background-color: white;padding-right: 0.2em;padding-left: 0.2em;position: relative;}#sk-container-id-2 div.sk-item {position: relative;z-index: 1;}#sk-container-id-2 div.sk-parallel {display: flex;align-items: stretch;justify-content: center;background-color: white;position: relative;}#sk-container-id-2 div.sk-item::before, #sk-container-id-2 div.sk-parallel-item::before {content: \"\";position: absolute;border-left: 1px solid gray;box-sizing: border-box;top: 0;bottom: 0;left: 50%;z-index: -1;}#sk-container-id-2 div.sk-parallel-item {display: flex;flex-direction: column;z-index: 1;position: relative;background-color: white;}#sk-container-id-2 div.sk-parallel-item:first-child::after {align-self: flex-end;width: 50%;}#sk-container-id-2 div.sk-parallel-item:last-child::after {align-self: flex-start;width: 50%;}#sk-container-id-2 div.sk-parallel-item:only-child::after {width: 0;}#sk-container-id-2 div.sk-dashed-wrapped {border: 1px dashed gray;margin: 0 0.4em 0.5em 0.4em;box-sizing: border-box;padding-bottom: 0.4em;background-color: white;}#sk-container-id-2 div.sk-label label {font-family: monospace;font-weight: bold;display: inline-block;line-height: 1.2em;}#sk-container-id-2 div.sk-label-container {text-align: center;}#sk-container-id-2 div.sk-container {/* jupyter's `normalize.less` sets `[hidden] { display: none; }` but bootstrap.min.css set `[hidden] { display: none !important; }` so we also need the `!important` here to be able to override the default hidden behavior on the sphinx rendered scikit-learn.org. See: https://github.com/scikit-learn/scikit-learn/issues/21755 */display: inline-block !important;position: relative;}#sk-container-id-2 div.sk-text-repr-fallback {display: none;}</style><div id=\"sk-container-id-2\" class=\"sk-top-container\"><div class=\"sk-text-repr-fallback\"><pre>RandomForestClassifier(random_state=42)</pre><b>In a Jupyter environment, please rerun this cell to show the HTML representation or trust the notebook. <br />On GitHub, the HTML representation is unable to render, please try loading this page with nbviewer.org.</b></div><div class=\"sk-container\" hidden><div class=\"sk-item\"><div class=\"sk-estimator sk-toggleable\"><input class=\"sk-toggleable__control sk-hidden--visually\" id=\"sk-estimator-id-2\" type=\"checkbox\" checked><label for=\"sk-estimator-id-2\" class=\"sk-toggleable__label sk-toggleable__label-arrow\">RandomForestClassifier</label><div class=\"sk-toggleable__content\"><pre>RandomForestClassifier(random_state=42)</pre></div></div></div></div></div>"
            ],
            "text/plain": [
              "RandomForestClassifier(random_state=42)"
            ]
          },
          "execution_count": 46,
          "metadata": {},
          "output_type": "execute_result"
        }
      ],
      "source": [
        "# Bagi data menjadi data latih dan data uji\n",
        "X_train, X_test, y_train, y_test = train_test_split(X, y, test_size=0.2, random_state=42)\n",
        "\n",
        "# Membuat model klasifikasi (Random Forest Classifier)\n",
        "model = RandomForestClassifier(random_state=42)\n",
        "model.fit(X_train, y_train)"
      ]
    },
    {
      "cell_type": "code",
      "execution_count": null,
      "metadata": {
        "id": "vniQQWet_-hh"
      },
      "outputs": [],
      "source": [
        "# Kolom yang akan digunakan dalam model\n",
        "selected_columns = ['kondisi', 'sakit_gigi', 'frekuensi_sakit', 'masalah_gigi', 'gigi_berlubang', 'harga', 'reaksi_negatif', 'range_warna_gigi']"
      ]
    },
    {
      "cell_type": "code",
      "execution_count": null,
      "metadata": {
        "id": "xziJ_FASACPC"
      },
      "outputs": [],
      "source": [
        "# Melatih model menggunakan subset kolom\n",
        "model.fit(X_subset, y)\n",
        "X_subset = X[selected_columns]"
      ]
    },
    {
      "cell_type": "code",
      "execution_count": null,
      "metadata": {
        "id": "pZ4ieLv1AEAw"
      },
      "outputs": [],
      "source": [
        "# Lakukan prediksi menggunakan subset kolom\n",
        "y_pred = model.predict(X_test[selected_columns])"
      ]
    },
    {
      "cell_type": "code",
      "execution_count": null,
      "metadata": {
        "colab": {
          "base_uri": "https://localhost:8080/"
        },
        "id": "OZL-cpFBAGB7",
        "outputId": "7e687c37-e47e-4969-ca0a-9ee69b14790b"
      },
      "outputs": [
        {
          "name": "stdout",
          "output_type": "stream",
          "text": [
            "Akurasi Model: 0.9130434782608695\n"
          ]
        }
      ],
      "source": [
        "# Evaluasi akurasi\n",
        "accuracy = accuracy_score(y_test, y_pred)\n",
        "print(f'Akurasi Model: {accuracy}')"
      ]
    },
    {
      "cell_type": "code",
      "execution_count": null,
      "metadata": {
        "id": "_zs2yqasAHcd"
      },
      "outputs": [],
      "source": [
        "# Evaluasi precision, recall, dan f1-score\n",
        "precision = precision_score(y_test, y_pred, average='macro')\n",
        "recall = recall_score(y_test, y_pred, average='macro')\n",
        "f1 = f1_score(y_test, y_pred, average='macro')"
      ]
    },
    {
      "cell_type": "code",
      "execution_count": null,
      "metadata": {
        "colab": {
          "base_uri": "https://localhost:8080/"
        },
        "id": "uN5vL0hwBFro",
        "outputId": "cc889350-86a4-4524-eca9-1fe11df1fd5b"
      },
      "outputs": [
        {
          "name": "stdout",
          "output_type": "stream",
          "text": [
            "Precision: 0.9316239316239315\n",
            "Recall: 0.861111111111111\n",
            "F1-Score: 0.8822222222222224\n"
          ]
        }
      ],
      "source": [
        "print(f'Precision: {precision}')\n",
        "print(f'Recall: {recall}')\n",
        "print(f'F1-Score: {f1}')"
      ]
    },
    {
      "cell_type": "code",
      "execution_count": null,
      "metadata": {
        "colab": {
          "base_uri": "https://localhost:8080/"
        },
        "id": "kExdhOzOBGpT",
        "outputId": "2283ec35-3191-435b-ea2e-15ee24981e3e"
      },
      "outputs": [
        {
          "name": "stdout",
          "output_type": "stream",
          "text": [
            "Confusion Matrix:\n",
            "[[ 1  0  0  0  0  0]\n",
            " [ 0  2  0  1  0  0]\n",
            " [ 0  0  1  0  0  0]\n",
            " [ 0  0  0 12  0  0]\n",
            " [ 0  0  0  0  4  0]\n",
            " [ 0  1  0  0  0  1]]\n"
          ]
        }
      ],
      "source": [
        "# Confusion Matrix\n",
        "conf_matrix = confusion_matrix(y_test, y_pred)\n",
        "print('Confusion Matrix:')\n",
        "print(conf_matrix)"
      ]
    },
    {
      "cell_type": "markdown",
      "metadata": {
        "id": "o22IvDcaMNmj"
      },
      "source": [
        "Baris ke-1, Kolom ke-1 (1): Ini menunjukkan jumlah sampel yang seharusnya masuk ke kelas pertama (true class) dan secara benar diprediksi oleh model sebagai kelas pertama (predicted class).\n",
        "\n",
        "Baris ke-2, Kolom ke-2 (2): Ini menunjukkan jumlah sampel yang seharusnya masuk ke kelas kedua dan secara benar diprediksi oleh model sebagai kelas kedua.\n",
        "\n",
        "Baris ke-2, Kolom ke-4 (1): Ini menunjukkan jumlah sampel yang seharusnya masuk ke kelas kedua, tetapi salah diprediksi sebagai kelas keempat.\n",
        "\n",
        "Baris ke-4, Kolom ke-4 (12): Ini menunjukkan jumlah sampel yang seharusnya masuk ke kelas keempat dan secara benar diprediksi oleh model sebagai kelas keempat.\n",
        "\n",
        "Baris ke-6, Kolom ke-2 (1): Ini menunjukkan jumlah sampel yang seharusnya masuk ke kelas keenam, tetapi salah diprediksi sebagai kelas kedua."
      ]
    },
    {
      "cell_type": "code",
      "execution_count": null,
      "metadata": {
        "id": "6PVwCyBHMNmj",
        "outputId": "c85e39cb-19d1-4530-ae46-8a2ecb1202b7"
      },
      "outputs": [
        {
          "data": {
            "image/png": "[encoded data removed]",
            "text/plain": [
              "<Figure size 800x600 with 2 Axes>"
            ]
          },
          "metadata": {},
          "output_type": "display_data"
        }
      ],
      "source": [
        "import matplotlib.pyplot as plt\n",
        "import seaborn as sns\n",
        "from sklearn.metrics import confusion_matrix\n",
        "\n",
        "# Membuat heatmap untuk visualisasi\n",
        "plt.figure(figsize=(8, 6))\n",
        "sns.heatmap(conf_matrix, annot=True, fmt='d', cmap='Blues',\n",
        "            xticklabels=['Predicted Negative', 'Predicted Positive'],\n",
        "            yticklabels=['Actual Negative', 'Actual Positive'])\n",
        "\n",
        "plt.title('Confusion Matrix')\n",
        "plt.xlabel('Predicted Label')\n",
        "plt.ylabel('Actual Label')\n",
        "plt.show()"
      ]
    },
    {
      "cell_type": "code",
      "execution_count": null,
      "metadata": {
        "colab": {
          "base_uri": "https://localhost:8080/"
        },
        "id": "ZYV0MrqgBftW",
        "outputId": "69ac54f9-4a8c-4508-83c2-ed98059cbe7f"
      },
      "outputs": [
        {
          "name": "stdout",
          "output_type": "stream",
          "text": [
            "Classification Report:\n",
            "              precision    recall  f1-score   support\n",
            "\n",
            "         1.0       1.00      1.00      1.00         1\n",
            "         2.0       0.67      0.67      0.67         3\n",
            "         3.0       1.00      1.00      1.00         1\n",
            "         4.0       0.92      1.00      0.96        12\n",
            "         5.0       1.00      1.00      1.00         4\n",
            "         6.0       1.00      0.50      0.67         2\n",
            "\n",
            "    accuracy                           0.91        23\n",
            "   macro avg       0.93      0.86      0.88        23\n",
            "weighted avg       0.92      0.91      0.91        23\n",
            "\n"
          ]
        }
      ],
      "source": [
        "# Classification Report\n",
        "class_report = classification_report(y_test, y_pred)\n",
        "print('Classification Report:')\n",
        "print(class_report)"
      ]
    },
    {
      "cell_type": "markdown",
      "metadata": {
        "id": "VZN4LdFRBjxZ"
      },
      "source": [
        "Alasan menggunakan selected_colomns adalah ketika semua kolom digunakan, maka hasil akurasi hanya menunjukkan 43% dan fitur paling berpengaruh adalah variabel lama yang mana hal tersebut seharusnya bukan merupakan sebab, tapi dampak.\n",
        "\n",
        "Interpretasi Umum:\n",
        "Akurasi tinggi (91.3%) menunjukkan sebagian besar prediksi\n",
        "benar.\n",
        "Precision yang baik (93.2%) menunjukkan bahwa sebagian besar dari yang diprediksi sebagai positif memang positif.\n",
        "Recall yang baik (86.1%) menunjukkan bahwa sebagian besar dari yang sebenarnya positif berhasil diprediksi.\n",
        "F1-Score yang baik (88.2%) menunjukkan keseimbangan antara precision dan recall."
      ]
    },
    {
      "cell_type": "markdown",
      "metadata": {
        "id": "-ZXwwJE_MNmk"
      },
      "source": [
        "## IMBALANCED DATASET"
      ]
    },
    {
      "cell_type": "code",
      "execution_count": null,
      "metadata": {
        "id": "GPfgyzA_MNmk",
        "outputId": "02dcb6b5-34e3-4809-d392-30d1cd85d5ef"
      },
      "outputs": [
        {
          "data": {
            "text/plain": [
              "merek\n",
              "4    70\n",
              "2    18\n",
              "1     9\n",
              "5     7\n",
              "3     5\n",
              "6     4\n",
              "Name: count, dtype: Int64"
            ]
          },
          "execution_count": 56,
          "metadata": {},
          "output_type": "execute_result"
        }
      ],
      "source": [
        "activity_count = y.value_counts()\n",
        "activity_count"
      ]
    },
    {
      "cell_type": "code",
      "execution_count": null,
      "metadata": {
        "id": "Tnnf9OdzMNmk",
        "outputId": "3a7d5c8d-d94e-43ec-afd7-df4036794bb4"
      },
      "outputs": [
        {
          "data": {
            "text/plain": [
              "<Axes: ylabel='count'>"
            ]
          },
          "execution_count": 57,
          "metadata": {},
          "output_type": "execute_result"
        },
        {
          "data": {
            "image/png": "[encoded data removed]",
            "text/plain": [
              "<Figure size 640x480 with 1 Axes>"
            ]
          },
          "metadata": {},
          "output_type": "display_data"
        }
      ],
      "source": [
        "# Show pie plot (Approach 1)\n",
        "y.value_counts().plot.pie(autopct='%.2f')"
      ]
    },
    {
      "cell_type": "code",
      "execution_count": null,
      "metadata": {
        "id": "QJ0PYDIgMNmk",
        "outputId": "4f362dd2-2443-4219-e6f2-5b999c7cf6dd"
      },
      "outputs": [
        {
          "data": {
            "text/plain": [
              "Index([4, 2, 1, 5, 3, 6], dtype='Int64', name='merek')"
            ]
          },
          "execution_count": 58,
          "metadata": {},
          "output_type": "execute_result"
        }
      ],
      "source": [
        "activity_count.index"
      ]
    },
    {
      "cell_type": "code",
      "execution_count": null,
      "metadata": {
        "id": "-MlImepxMNmk"
      },
      "outputs": [],
      "source": [
        "from sklearn.model_selection import train_test_split\n",
        "\n",
        "X_train, X_test, y_train, y_test = train_test_split(X, y, test_size=0.2, random_state=42)"
      ]
    },
    {
      "cell_type": "code",
      "execution_count": null,
      "metadata": {
        "id": "qS7PJsvPMNmk",
        "outputId": "ecd716af-be31-441d-b19e-9b2082e9eac4"
      },
      "outputs": [
        {
          "data": {
            "text/plain": [
              "((90, 12), (90,), (23, 12), (23,))"
            ]
          },
          "execution_count": 60,
          "metadata": {},
          "output_type": "execute_result"
        }
      ],
      "source": [
        "X_train.shape, y_train.shape, X_test.shape, y_test.shape"
      ]
    },
    {
      "cell_type": "code",
      "execution_count": null,
      "metadata": {
        "id": "Pm7LYDlFMNmk",
        "outputId": "99b62ce3-5252-4d4b-b7fd-c23925acb8e2"
      },
      "outputs": [
        {
          "data": {
            "text/plain": [
              "<Axes: ylabel='count'>"
            ]
          },
          "execution_count": 61,
          "metadata": {},
          "output_type": "execute_result"
        },
        {
          "data": {
            "image/png": "[encoded data removed]",
            "text/plain": [
              "<Figure size 640x480 with 1 Axes>"
            ]
          },
          "metadata": {},
          "output_type": "display_data"
        }
      ],
      "source": [
        "# Pie chart of the training set\n",
        "y_train.value_counts().plot.pie(autopct='%.2f')"
      ]
    },
    {
      "cell_type": "code",
      "execution_count": null,
      "metadata": {
        "id": "03Dt9WCxMNmk",
        "outputId": "191c72a7-7832-457d-a519-cceb13bdce14"
      },
      "outputs": [
        {
          "data": {
            "text/plain": [
              "merek\n",
              "4    58\n",
              "2    15\n",
              "1     8\n",
              "3     4\n",
              "5     3\n",
              "6     2\n",
              "Name: count, dtype: Int64"
            ]
          },
          "execution_count": 62,
          "metadata": {},
          "output_type": "execute_result"
        }
      ],
      "source": [
        "y_train.value_counts()"
      ]
    },
    {
      "cell_type": "markdown",
      "metadata": {
        "id": "CiZtDCjTMNmk"
      },
      "source": [
        "### Random Undersampling"
      ]
    },
    {
      "cell_type": "code",
      "execution_count": null,
      "metadata": {
        "id": "mP7_4GZOMNmk",
        "outputId": "49be5e65-1e5c-4560-f6d7-870faa1718c8"
      },
      "outputs": [
        {
          "data": {
            "image/png": "[encoded data removed]",
            "text/plain": [
              "<Figure size 640x480 with 1 Axes>"
            ]
          },
          "metadata": {},
          "output_type": "display_data"
        }
      ],
      "source": [
        "from imblearn.under_sampling import RandomUnderSampler\n",
        "\n",
        "class_mapping = {'Ciptadent': 1, 'CloseUp': 2, 'Colgate': 3, 'Lainnya': 6, 'Pepsodent': 4, 'Sensodyne': 5}\n",
        "\n",
        "# Find the smallest class size\n",
        "min_class_size = min(y_train.value_counts()[class_mapping.values()])\n",
        "\n",
        "# Set desired_ratio to the minimum class size\n",
        "desired_ratio = min_class_size\n",
        "\n",
        "class_ratios = {class_label: desired_ratio for class_label in class_mapping.values()}\n",
        "\n",
        "rus = RandomUnderSampler(sampling_strategy=class_ratios)\n",
        "X_train_rus, y_train_rus = rus.fit_resample(X_train, y_train)\n",
        "\n",
        "ax = y_train_rus.value_counts().plot.pie(autopct='%.2f')\n",
        "_ = ax.set_title(\"Under-sampling\")\n"
      ]
    },
    {
      "cell_type": "code",
      "execution_count": null,
      "metadata": {
        "id": "GWT2AyWkMNml",
        "outputId": "5883c588-e245-4752-9c08-ad005ee97aff"
      },
      "outputs": [
        {
          "data": {
            "text/plain": [
              "merek\n",
              "1    2\n",
              "2    2\n",
              "3    2\n",
              "4    2\n",
              "5    2\n",
              "6    2\n",
              "Name: count, dtype: Int64"
            ]
          },
          "execution_count": 65,
          "metadata": {},
          "output_type": "execute_result"
        }
      ],
      "source": [
        "# Class distribution\n",
        "y_train_rus.value_counts()"
      ]
    },
    {
      "cell_type": "markdown",
      "metadata": {
        "id": "zBXYi_qsMNml"
      },
      "source": [
        "### Random Oversampling"
      ]
    },
    {
      "cell_type": "code",
      "execution_count": null,
      "metadata": {
        "id": "VNNsm4cIMNml",
        "outputId": "a0201014-aac6-435e-ab51-2488a4277be0"
      },
      "outputs": [
        {
          "data": {
            "image/png": "[encoded data removed]",
            "text/plain": [
              "<Figure size 640x480 with 1 Axes>"
            ]
          },
          "metadata": {},
          "output_type": "display_data"
        }
      ],
      "source": [
        "from imblearn.over_sampling import RandomOverSampler\n",
        "\n",
        "ros = RandomOverSampler(sampling_strategy=1) # Float\n",
        "ros = RandomOverSampler(sampling_strategy=\"not majority\") # String\n",
        "X_train_ros, y_train_ros = ros.fit_resample(X_train, y_train)\n",
        "\n",
        "ax = y_train_ros.value_counts().plot.pie(autopct='%.2f')\n",
        "_ = ax.set_title(\"Over-sampling\")"
      ]
    },
    {
      "cell_type": "code",
      "execution_count": null,
      "metadata": {
        "id": "U12TaZiOMNml",
        "outputId": "000a8e51-6c14-454d-c6eb-c1c8353d3176"
      },
      "outputs": [
        {
          "data": {
            "text/plain": [
              "merek\n",
              "4    58\n",
              "2    58\n",
              "6    58\n",
              "5    58\n",
              "3    58\n",
              "1    58\n",
              "Name: count, dtype: Int64"
            ]
          },
          "execution_count": 67,
          "metadata": {},
          "output_type": "execute_result"
        }
      ],
      "source": [
        "y_train_ros.value_counts()"
      ]
    },
    {
      "cell_type": "markdown",
      "metadata": {
        "id": "IhOYqPJmMNml"
      },
      "source": [
        "### Model building with/without class balancing"
      ]
    },
    {
      "cell_type": "markdown",
      "metadata": {
        "id": "mm8_ZdCSMNml"
      },
      "source": [
        "#### 1. Model building with undersampled balanced class"
      ]
    },
    {
      "cell_type": "code",
      "execution_count": null,
      "metadata": {
        "id": "WVB2RnKvMNml",
        "outputId": "87e57309-56df-43fc-f771-8847e356d960"
      },
      "outputs": [
        {
          "data": {
            "text/html": [
              "<style>#sk-container-id-5 {color: black;}#sk-container-id-5 pre{padding: 0;}#sk-container-id-5 div.sk-toggleable {background-color: white;}#sk-container-id-5 label.sk-toggleable__label {cursor: pointer;display: block;width: 100%;margin-bottom: 0;padding: 0.3em;box-sizing: border-box;text-align: center;}#sk-container-id-5 label.sk-toggleable__label-arrow:before {content: \"▸\";float: left;margin-right: 0.25em;color: #696969;}#sk-container-id-5 label.sk-toggleable__label-arrow:hover:before {color: black;}#sk-container-id-5 div.sk-estimator:hover label.sk-toggleable__label-arrow:before {color: black;}#sk-container-id-5 div.sk-toggleable__content {max-height: 0;max-width: 0;overflow: hidden;text-align: left;background-color: #f0f8ff;}#sk-container-id-5 div.sk-toggleable__content pre {margin: 0.2em;color: black;border-radius: 0.25em;background-color: #f0f8ff;}#sk-container-id-5 input.sk-toggleable__control:checked~div.sk-toggleable__content {max-height: 200px;max-width: 100%;overflow: auto;}#sk-container-id-5 input.sk-toggleable__control:checked~label.sk-toggleable__label-arrow:before {content: \"▾\";}#sk-container-id-5 div.sk-estimator input.sk-toggleable__control:checked~label.sk-toggleable__label {background-color: #d4ebff;}#sk-container-id-5 div.sk-label input.sk-toggleable__control:checked~label.sk-toggleable__label {background-color: #d4ebff;}#sk-container-id-5 input.sk-hidden--visually {border: 0;clip: rect(1px 1px 1px 1px);clip: rect(1px, 1px, 1px, 1px);height: 1px;margin: -1px;overflow: hidden;padding: 0;position: absolute;width: 1px;}#sk-container-id-5 div.sk-estimator {font-family: monospace;background-color: #f0f8ff;border: 1px dotted black;border-radius: 0.25em;box-sizing: border-box;margin-bottom: 0.5em;}#sk-container-id-5 div.sk-estimator:hover {background-color: #d4ebff;}#sk-container-id-5 div.sk-parallel-item::after {content: \"\";width: 100%;border-bottom: 1px solid gray;flex-grow: 1;}#sk-container-id-5 div.sk-label:hover label.sk-toggleable__label {background-color: #d4ebff;}#sk-container-id-5 div.sk-serial::before {content: \"\";position: absolute;border-left: 1px solid gray;box-sizing: border-box;top: 0;bottom: 0;left: 50%;z-index: 0;}#sk-container-id-5 div.sk-serial {display: flex;flex-direction: column;align-items: center;background-color: white;padding-right: 0.2em;padding-left: 0.2em;position: relative;}#sk-container-id-5 div.sk-item {position: relative;z-index: 1;}#sk-container-id-5 div.sk-parallel {display: flex;align-items: stretch;justify-content: center;background-color: white;position: relative;}#sk-container-id-5 div.sk-item::before, #sk-container-id-5 div.sk-parallel-item::before {content: \"\";position: absolute;border-left: 1px solid gray;box-sizing: border-box;top: 0;bottom: 0;left: 50%;z-index: -1;}#sk-container-id-5 div.sk-parallel-item {display: flex;flex-direction: column;z-index: 1;position: relative;background-color: white;}#sk-container-id-5 div.sk-parallel-item:first-child::after {align-self: flex-end;width: 50%;}#sk-container-id-5 div.sk-parallel-item:last-child::after {align-self: flex-start;width: 50%;}#sk-container-id-5 div.sk-parallel-item:only-child::after {width: 0;}#sk-container-id-5 div.sk-dashed-wrapped {border: 1px dashed gray;margin: 0 0.4em 0.5em 0.4em;box-sizing: border-box;padding-bottom: 0.4em;background-color: white;}#sk-container-id-5 div.sk-label label {font-family: monospace;font-weight: bold;display: inline-block;line-height: 1.2em;}#sk-container-id-5 div.sk-label-container {text-align: center;}#sk-container-id-5 div.sk-container {/* jupyter's `normalize.less` sets `[hidden] { display: none; }` but bootstrap.min.css set `[hidden] { display: none !important; }` so we also need the `!important` here to be able to override the default hidden behavior on the sphinx rendered scikit-learn.org. See: https://github.com/scikit-learn/scikit-learn/issues/21755 */display: inline-block !important;position: relative;}#sk-container-id-5 div.sk-text-repr-fallback {display: none;}</style><div id=\"sk-container-id-5\" class=\"sk-top-container\"><div class=\"sk-text-repr-fallback\"><pre>RandomForestClassifier(random_state=42)</pre><b>In a Jupyter environment, please rerun this cell to show the HTML representation or trust the notebook. <br />On GitHub, the HTML representation is unable to render, please try loading this page with nbviewer.org.</b></div><div class=\"sk-container\" hidden><div class=\"sk-item\"><div class=\"sk-estimator sk-toggleable\"><input class=\"sk-toggleable__control sk-hidden--visually\" id=\"sk-estimator-id-5\" type=\"checkbox\" checked><label for=\"sk-estimator-id-5\" class=\"sk-toggleable__label sk-toggleable__label-arrow\">RandomForestClassifier</label><div class=\"sk-toggleable__content\"><pre>RandomForestClassifier(random_state=42)</pre></div></div></div></div></div>"
            ],
            "text/plain": [
              "RandomForestClassifier(random_state=42)"
            ]
          },
          "execution_count": 79,
          "metadata": {},
          "output_type": "execute_result"
        }
      ],
      "source": [
        "from sklearn.ensemble import RandomForestClassifier\n",
        "\n",
        "model = RandomForestClassifier(random_state=42)\n",
        "model.fit(X_train_rus, y_train_rus)"
      ]
    },
    {
      "cell_type": "code",
      "execution_count": null,
      "metadata": {
        "scrolled": true,
        "id": "qTAHExW8MNml",
        "outputId": "ee250acc-59d3-411b-ac7d-8250b16acf16"
      },
      "outputs": [
        {
          "data": {
            "text/html": [
              "<div>\n",
              "<style scoped>\n",
              "    .dataframe tbody tr th:only-of-type {\n",
              "        vertical-align: middle;\n",
              "    }\n",
              "\n",
              "    .dataframe tbody tr th {\n",
              "        vertical-align: top;\n",
              "    }\n",
              "\n",
              "    .dataframe thead th {\n",
              "        text-align: right;\n",
              "    }\n",
              "</style>\n",
              "<table border=\"1\" class=\"dataframe\">\n",
              "  <thead>\n",
              "    <tr style=\"text-align: right;\">\n",
              "      <th></th>\n",
              "      <th>Performance_metric_names</th>\n",
              "      <th>Performance_metric_values</th>\n",
              "    </tr>\n",
              "  </thead>\n",
              "  <tbody>\n",
              "    <tr>\n",
              "      <th>0</th>\n",
              "      <td>MCC_test</td>\n",
              "      <td>-0.107153</td>\n",
              "    </tr>\n",
              "  </tbody>\n",
              "</table>\n",
              "</div>"
            ],
            "text/plain": [
              "  Performance_metric_names  Performance_metric_values\n",
              "0                 MCC_test                  -0.107153"
            ]
          },
          "execution_count": 72,
          "metadata": {},
          "output_type": "execute_result"
        }
      ],
      "source": [
        "# Apply model to make prediction\n",
        "from sklearn.metrics import matthews_corrcoef\n",
        "\n",
        "y_test_pred = model.predict(X_test)\n",
        "\n",
        "mcc_test = matthews_corrcoef(y_test, y_test_pred)\n",
        "\n",
        "# Display model performance results\n",
        "df_labels = pd.Series(['MCC_test'], name = 'Performance_metric_names')\n",
        "df_values = pd.Series([mcc_test], name = 'Performance_metric_values')\n",
        "df2 = pd.concat([df_labels, df_values], axis=1)\n",
        "df2"
      ]
    },
    {
      "cell_type": "code",
      "execution_count": null,
      "metadata": {
        "id": "gV6lzOj_MNml"
      },
      "outputs": [],
      "source": []
    },
    {
      "cell_type": "code",
      "execution_count": null,
      "metadata": {
        "id": "1t-Zs4FwMNml"
      },
      "outputs": [],
      "source": []
    },
    {
      "cell_type": "markdown",
      "metadata": {
        "id": "voargiHDMNml"
      },
      "source": [
        "#### 2. Model building with undersampled balanced class"
      ]
    },
    {
      "cell_type": "code",
      "execution_count": null,
      "metadata": {
        "id": "3Dcg78XZMNml",
        "outputId": "06fcdcdd-2bcb-496d-ae65-ba8c4a0854be"
      },
      "outputs": [
        {
          "data": {
            "text/html": [
              "<style>#sk-container-id-4 {color: black;}#sk-container-id-4 pre{padding: 0;}#sk-container-id-4 div.sk-toggleable {background-color: white;}#sk-container-id-4 label.sk-toggleable__label {cursor: pointer;display: block;width: 100%;margin-bottom: 0;padding: 0.3em;box-sizing: border-box;text-align: center;}#sk-container-id-4 label.sk-toggleable__label-arrow:before {content: \"▸\";float: left;margin-right: 0.25em;color: #696969;}#sk-container-id-4 label.sk-toggleable__label-arrow:hover:before {color: black;}#sk-container-id-4 div.sk-estimator:hover label.sk-toggleable__label-arrow:before {color: black;}#sk-container-id-4 div.sk-toggleable__content {max-height: 0;max-width: 0;overflow: hidden;text-align: left;background-color: #f0f8ff;}#sk-container-id-4 div.sk-toggleable__content pre {margin: 0.2em;color: black;border-radius: 0.25em;background-color: #f0f8ff;}#sk-container-id-4 input.sk-toggleable__control:checked~div.sk-toggleable__content {max-height: 200px;max-width: 100%;overflow: auto;}#sk-container-id-4 input.sk-toggleable__control:checked~label.sk-toggleable__label-arrow:before {content: \"▾\";}#sk-container-id-4 div.sk-estimator input.sk-toggleable__control:checked~label.sk-toggleable__label {background-color: #d4ebff;}#sk-container-id-4 div.sk-label input.sk-toggleable__control:checked~label.sk-toggleable__label {background-color: #d4ebff;}#sk-container-id-4 input.sk-hidden--visually {border: 0;clip: rect(1px 1px 1px 1px);clip: rect(1px, 1px, 1px, 1px);height: 1px;margin: -1px;overflow: hidden;padding: 0;position: absolute;width: 1px;}#sk-container-id-4 div.sk-estimator {font-family: monospace;background-color: #f0f8ff;border: 1px dotted black;border-radius: 0.25em;box-sizing: border-box;margin-bottom: 0.5em;}#sk-container-id-4 div.sk-estimator:hover {background-color: #d4ebff;}#sk-container-id-4 div.sk-parallel-item::after {content: \"\";width: 100%;border-bottom: 1px solid gray;flex-grow: 1;}#sk-container-id-4 div.sk-label:hover label.sk-toggleable__label {background-color: #d4ebff;}#sk-container-id-4 div.sk-serial::before {content: \"\";position: absolute;border-left: 1px solid gray;box-sizing: border-box;top: 0;bottom: 0;left: 50%;z-index: 0;}#sk-container-id-4 div.sk-serial {display: flex;flex-direction: column;align-items: center;background-color: white;padding-right: 0.2em;padding-left: 0.2em;position: relative;}#sk-container-id-4 div.sk-item {position: relative;z-index: 1;}#sk-container-id-4 div.sk-parallel {display: flex;align-items: stretch;justify-content: center;background-color: white;position: relative;}#sk-container-id-4 div.sk-item::before, #sk-container-id-4 div.sk-parallel-item::before {content: \"\";position: absolute;border-left: 1px solid gray;box-sizing: border-box;top: 0;bottom: 0;left: 50%;z-index: -1;}#sk-container-id-4 div.sk-parallel-item {display: flex;flex-direction: column;z-index: 1;position: relative;background-color: white;}#sk-container-id-4 div.sk-parallel-item:first-child::after {align-self: flex-end;width: 50%;}#sk-container-id-4 div.sk-parallel-item:last-child::after {align-self: flex-start;width: 50%;}#sk-container-id-4 div.sk-parallel-item:only-child::after {width: 0;}#sk-container-id-4 div.sk-dashed-wrapped {border: 1px dashed gray;margin: 0 0.4em 0.5em 0.4em;box-sizing: border-box;padding-bottom: 0.4em;background-color: white;}#sk-container-id-4 div.sk-label label {font-family: monospace;font-weight: bold;display: inline-block;line-height: 1.2em;}#sk-container-id-4 div.sk-label-container {text-align: center;}#sk-container-id-4 div.sk-container {/* jupyter's `normalize.less` sets `[hidden] { display: none; }` but bootstrap.min.css set `[hidden] { display: none !important; }` so we also need the `!important` here to be able to override the default hidden behavior on the sphinx rendered scikit-learn.org. See: https://github.com/scikit-learn/scikit-learn/issues/21755 */display: inline-block !important;position: relative;}#sk-container-id-4 div.sk-text-repr-fallback {display: none;}</style><div id=\"sk-container-id-4\" class=\"sk-top-container\"><div class=\"sk-text-repr-fallback\"><pre>RandomForestClassifier(random_state=42)</pre><b>In a Jupyter environment, please rerun this cell to show the HTML representation or trust the notebook. <br />On GitHub, the HTML representation is unable to render, please try loading this page with nbviewer.org.</b></div><div class=\"sk-container\" hidden><div class=\"sk-item\"><div class=\"sk-estimator sk-toggleable\"><input class=\"sk-toggleable__control sk-hidden--visually\" id=\"sk-estimator-id-4\" type=\"checkbox\" checked><label for=\"sk-estimator-id-4\" class=\"sk-toggleable__label sk-toggleable__label-arrow\">RandomForestClassifier</label><div class=\"sk-toggleable__content\"><pre>RandomForestClassifier(random_state=42)</pre></div></div></div></div></div>"
            ],
            "text/plain": [
              "RandomForestClassifier(random_state=42)"
            ]
          },
          "execution_count": 74,
          "metadata": {},
          "output_type": "execute_result"
        }
      ],
      "source": [
        "# Training Random Forest Models\n",
        "from sklearn.ensemble import RandomForestClassifier\n",
        "\n",
        "model = RandomForestClassifier(random_state=42)\n",
        "model.fit(X_train_ros, y_train_ros)"
      ]
    },
    {
      "cell_type": "code",
      "execution_count": null,
      "metadata": {
        "id": "Ndd0pdXdMNml",
        "outputId": "f9a96818-3248-431f-dd43-092507dcee47"
      },
      "outputs": [
        {
          "data": {
            "text/html": [
              "<div>\n",
              "<style scoped>\n",
              "    .dataframe tbody tr th:only-of-type {\n",
              "        vertical-align: middle;\n",
              "    }\n",
              "\n",
              "    .dataframe tbody tr th {\n",
              "        vertical-align: top;\n",
              "    }\n",
              "\n",
              "    .dataframe thead th {\n",
              "        text-align: right;\n",
              "    }\n",
              "</style>\n",
              "<table border=\"1\" class=\"dataframe\">\n",
              "  <thead>\n",
              "    <tr style=\"text-align: right;\">\n",
              "      <th></th>\n",
              "      <th>Performance_metric_names</th>\n",
              "      <th>Performance_metric_values</th>\n",
              "    </tr>\n",
              "  </thead>\n",
              "  <tbody>\n",
              "    <tr>\n",
              "      <th>0</th>\n",
              "      <td>MCC_test</td>\n",
              "      <td>0.007554</td>\n",
              "    </tr>\n",
              "  </tbody>\n",
              "</table>\n",
              "</div>"
            ],
            "text/plain": [
              "  Performance_metric_names  Performance_metric_values\n",
              "0                 MCC_test                   0.007554"
            ]
          },
          "execution_count": 76,
          "metadata": {},
          "output_type": "execute_result"
        }
      ],
      "source": [
        "# Apply model to make prediction\n",
        "from sklearn.metrics import matthews_corrcoef\n",
        "\n",
        "y_test_pred = model.predict(X_test)\n",
        "mcc_test = matthews_corrcoef(y_test, y_test_pred)\n",
        "\n",
        "# Display model performance results\n",
        "df_labels = pd.Series(['MCC_test'], name = 'Performance_metric_names')\n",
        "df_values = pd.Series([mcc_test], name = 'Performance_metric_values')\n",
        "df3 = pd.concat([df_labels, df_values], axis=1)\n",
        "df3"
      ]
    },
    {
      "cell_type": "markdown",
      "metadata": {
        "id": "D50W8ukvMNml"
      },
      "source": [
        "#### 3. Simpulan Model building with class balancing"
      ]
    },
    {
      "cell_type": "code",
      "execution_count": null,
      "metadata": {
        "scrolled": true,
        "id": "B-dNVmwqMNml",
        "outputId": "ec86ec13-4cf0-45e1-ebe3-995811f99a00"
      },
      "outputs": [
        {
          "name": "stdout",
          "output_type": "stream",
          "text": [
            "Metrics for Undersampling:\n",
            "Accuracy: 0.1304\n",
            "Precision: 0.5913\n",
            "Recall: 0.1304\n",
            "F1 Score: 0.1576\n",
            "\n",
            "Metrics for Oversampling:\n",
            "Accuracy: 0.3478\n",
            "Precision: 0.3188\n",
            "Recall: 0.3478\n",
            "F1 Score: 0.3306\n"
          ]
        },
        {
          "name": "stderr",
          "output_type": "stream",
          "text": [
            "C:\\Users\\rokeu\\AppData\\Local\\Programs\\Python\\Python311\\Lib\\site-packages\\sklearn\\metrics\\_classification.py:1469: UndefinedMetricWarning: Precision is ill-defined and being set to 0.0 in labels with no predicted samples. Use `zero_division` parameter to control this behavior.\n",
            "  _warn_prf(average, modifier, msg_start, len(result))\n"
          ]
        }
      ],
      "source": [
        "# Mengecek dengan metode metrik akurasi\n",
        "\n",
        "from sklearn.metrics import accuracy_score, precision_score, recall_score, f1_score\n",
        "from imblearn.under_sampling import RandomUnderSampler\n",
        "from imblearn.over_sampling import RandomOverSampler\n",
        "from sklearn.model_selection import train_test_split\n",
        "from sklearn.ensemble import RandomForestClassifier  # Ganti dengan model yang Anda gunakan\n",
        "\n",
        "# Kolom yang akan digunakan dalam model\n",
        "selected_columns = ['kondisi', 'sakit_gigi', 'frekuensi_sakit', 'masalah_gigi', 'gigi_berlubang', 'harga', 'reaksi_negatif', 'range_warna_gigi']\n",
        "X_subset = X[selected_columns]\n",
        "\n",
        "# Menentukan target variabel\n",
        "target_variable = 'merek'\n",
        "X = df.drop(target_variable, axis=1)\n",
        "y = df[target_variable]\n",
        "\n",
        "# Split data menjadi train dan test\n",
        "X_train, X_test, y_train, y_test = train_test_split(X_subset, y, test_size=0.2, random_state=42)\n",
        "\n",
        "# Undersampling\n",
        "rus = RandomUnderSampler(sampling_strategy='auto')\n",
        "X_train_undersampled, y_train_undersampled = rus.fit_resample(X_train, y_train)\n",
        "\n",
        "# Oversampling\n",
        "ros = RandomOverSampler(sampling_strategy='auto')\n",
        "X_train_oversampled, y_train_oversampled = ros.fit_resample(X_train, y_train)\n",
        "\n",
        "# Ganti RandomForestClassifier dengan model Anda\n",
        "model = RandomForestClassifier(random_state=42)\n",
        "\n",
        "# Fungsi untuk evaluasi metrik\n",
        "def evaluate_metrics(y_true, y_pred):\n",
        "    accuracy = accuracy_score(y_true, y_pred)\n",
        "    precision = precision_score(y_true, y_pred, average='weighted')\n",
        "    recall = recall_score(y_true, y_pred, average='weighted')\n",
        "    f1 = f1_score(y_true, y_pred, average='weighted')\n",
        "\n",
        "    return accuracy, precision, recall, f1\n",
        "\n",
        "# Evaluasi untuk undersampling\n",
        "model.fit(X_train_undersampled, y_train_undersampled)\n",
        "y_pred_undersampled = model.predict(X_test)\n",
        "accuracy_undersampled, precision_undersampled, recall_undersampled, f1_undersampled = evaluate_metrics(y_test, y_pred_undersampled)\n",
        "\n",
        "# Evaluasi untuk oversampling\n",
        "model.fit(X_train_oversampled, y_train_oversampled)\n",
        "y_pred_oversampled = model.predict(X_test)\n",
        "accuracy_oversampled, precision_oversampled, recall_oversampled, f1_oversampled = evaluate_metrics(y_test, y_pred_oversampled)\n",
        "\n",
        "# Tampilkan hasil\n",
        "print(\"Metrics for Undersampling:\")\n",
        "print(f\"Accuracy: {accuracy_undersampled:.4f}\")\n",
        "print(f\"Precision: {precision_undersampled:.4f}\")\n",
        "print(f\"Recall: {recall_undersampled:.4f}\")\n",
        "print(f\"F1 Score: {f1_undersampled:.4f}\")\n",
        "\n",
        "print(\"\\nMetrics for Oversampling:\")\n",
        "print(f\"Accuracy: {accuracy_oversampled:.4f}\")\n",
        "print(f\"Precision: {precision_oversampled:.4f}\")\n",
        "print(f\"Recall: {recall_oversampled:.4f}\")\n",
        "print(f\"F1 Score: {f1_oversampled:.4f}\")\n"
      ]
    },
    {
      "cell_type": "code",
      "execution_count": null,
      "metadata": {
        "id": "ZVb-SzLFMNmm",
        "outputId": "ce67a283-7b8d-4e4a-ced5-cd12d2a1c115"
      },
      "outputs": [
        {
          "name": "stdout",
          "output_type": "stream",
          "text": [
            "Cross-validation Scores for Undersampling:\n",
            "[0. 0.]\n",
            "Mean Accuracy: 0.0000\n",
            "\n",
            "Cross-validation Scores for Oversampling:\n",
            "[0.81609195 0.77586207]\n",
            "Mean Accuracy: 0.7960\n"
          ]
        }
      ],
      "source": [
        "# Meningkatkan kinerja dengan k-fold\n",
        "\n",
        "from sklearn.model_selection import StratifiedKFold, cross_val_score\n",
        "from sklearn.ensemble import RandomForestClassifier  # Ganti dengan model yang Anda gunakan\n",
        "\n",
        "# Ganti RandomForestClassifier dengan model Anda\n",
        "model = RandomForestClassifier(random_state=42)\n",
        "\n",
        "# Gunakan StratifiedKFold untuk memastikan stratifikasi kelas\n",
        "undersampling_cv = StratifiedKFold(n_splits=2, shuffle=True, random_state=42)\n",
        "undersampling_scores = cross_val_score(model, X_train_undersampled, y_train_undersampled, cv=undersampling_cv, scoring='accuracy')\n",
        "\n",
        "oversampling_cv = StratifiedKFold(n_splits=2, shuffle=True, random_state=42)\n",
        "oversampling_scores = cross_val_score(model, X_train_oversampled, y_train_oversampled, cv=oversampling_cv, scoring='accuracy')\n",
        "\n",
        "# Tampilkan hasil cross-validation\n",
        "print(\"Cross-validation Scores for Undersampling:\")\n",
        "print(undersampling_scores)\n",
        "print(f\"Mean Accuracy: {undersampling_scores.mean():.4f}\")\n",
        "\n",
        "print(\"\\nCross-validation Scores for Oversampling:\")\n",
        "print(oversampling_scores)\n",
        "print(f\"Mean Accuracy: {oversampling_scores.mean():.4f}\")\n"
      ]
    },
    {
      "cell_type": "markdown",
      "metadata": {
        "id": "I-bN_SlaMNmm"
      },
      "source": [
        "Dari nilai Matthews Correlation Coefficient (MCC) yang diperoleh, dapat kita simpulkan bahwa kinerja model pada pengujian menggunakan undersampling cenderung lebih buruk daripada oversampling.\n",
        "\n",
        "MCC undersampling: -0.107153\n",
        "MCC oversampling: 0.007554\n",
        "\n",
        "Dengan demikian, MCC yang negatif pada pengujian undersampling menandakan bahwa model cenderung memiliki performa yang kurang baik dalam mengklasifikasikan data, sedangkan MCC yang mendekati nol pada oversampling menunjukkan performa yang tidak jauh berbeda dari kebetulan acak.\n",
        "\n",
        "Kemudian dari metode evaluasi metrik, terlihat bahwa kinerja model pada data undersampling dan oversampling masih memiliki ruang untuk peningkatan. Kami menggunakan Cross-Validation untuk mendapatkan estimasi performa model yang lebih konsisten. Namun demikian, hasil menunjukkan bahwa ketika menggunakan undersampling, model tidak dapat menghasilkan prediksi yang akurat, sehingga menghasilkan akurasi 0.0000. Sementara itu, ketika menggunakan oversampling, model memiliki akurasi yang lebih tinggi, dengan nilai rata-rata akurasi sekitar 0.7960.\n",
        "\n",
        "Interpretasi\n",
        "\n",
        "Undersamplin\n",
        "\n",
        "Dengan undersampling, model tampaknya mengalami kesulitan dalam membuat prediksi yang akurat, dan hasilnya mungkin tidak dapat diandalkan. Ini bisa disebabkan oleh kurangnya sampel yang cukup untuk melatih model secara memad\n",
        "ai.\n",
        "Oversamp ng:\n",
        "\n",
        "Dengan oversampling, model memiliki kinerja yang lebih baik, dengan akurasi rata-rata sekitar 0.7960. Ini menunjukkan bahwa oversampling mungkin telah membantu model untuk memiliki performa yang lebih baik dalam mengklasifikasikan data."
      ]
    },
    {
      "cell_type": "markdown",
      "metadata": {
        "id": "GGQr3beKMNmm"
      },
      "source": [
        "Tim kami memutuskan untuk tidak melakukan penyesuaian class balancing dikarenakan terdapat gap yang cukup jauh pada count of value data target yang berjenis dataset multiclass. Selain itu, upaya peningkatan kinerja model melalui k-fold tidak memberikan hasil yang signifikan disebabkan oleh penentuan nilai k-fold yang kurang memadai sehingga hasil menjadi tidak kredibel. Namun demikian, pada evaluasi metriks awal telah menunjukkan hasil akurasi tinggi (91.3%), sehingga model awal dapat dijadikan model untuk melakukan PREDIKSI MEREK PASTA GIGI BERDASARKAN ANALISA KONDISI GIGI DAN PREFERENSI HARGA."
      ]
    },
    {
      "cell_type": "markdown",
      "metadata": {
        "id": "eZKn580nULNT"
      },
      "source": [
        "# IMPLEMENTASI PREDIKSI"
      ]
    },
    {
      "cell_type": "code",
      "execution_count": null,
      "metadata": {
        "colab": {
          "base_uri": "https://localhost:8080/"
        },
        "id": "lwUx-ac-Bj54",
        "outputId": "34ebc092-95e2-47a8-c79b-5a7d982c52c5"
      },
      "outputs": [
        {
          "name": "stdout",
          "output_type": "stream",
          "text": [
            "Prediksi Merek Pasta Gigi: Colgate\n"
          ]
        }
      ],
      "source": [
        "import pandas as pd\n",
        "#Menggunakan data pada baris pertama dataset.csv\n",
        "#M. Jadid Taqwa\n",
        "\n",
        "# Contoh prediksi untuk data baru\n",
        "new_data = pd.DataFrame({\n",
        "    'kondisi': [1],\n",
        "    'sakit_gigi': [1],\n",
        "    'frekuensi_sakit': [0],\n",
        "    'masalah_gigi': [0],\n",
        "    'gigi_berlubang': [1],\n",
        "    'harga': [1],\n",
        "    'reaksi_negatif': [0],\n",
        "    'range_warna_gigi': [0]\n",
        "})\n",
        "\n",
        "# Lakukan prediksi untuk data baru\n",
        "prediction = model.predict(new_data)\n",
        "\n",
        "# Membuat mapping dictionary\n",
        "brand_mapping = {\n",
        "    1: 'Ciptadent',\n",
        "    2: 'CloseUp',\n",
        "    3: 'Colgate',\n",
        "    4: 'Pepsodent',\n",
        "    5: 'Sensodyne',\n",
        "    6: 'Lainnya'\n",
        "}\n",
        "\n",
        "# Mapping hasil prediksi ke nama merek\n",
        "predicted_brand = brand_mapping.get(prediction[0], 'Tidak Diketahui')\n",
        "print(f'Prediksi Merek Pasta Gigi: {predicted_brand}')"
      ]
    },
    {
      "cell_type": "code",
      "execution_count": null,
      "metadata": {
        "colab": {
          "base_uri": "https://localhost:8080/"
        },
        "id": "-lqwQ8WJBpS6",
        "outputId": "966d3550-1018-4d57-a93e-2f2b638159ab"
      },
      "outputs": [
        {
          "name": "stdout",
          "output_type": "stream",
          "text": [
            "Prediksi Merek Pasta Gigi: Pepsodent\n"
          ]
        }
      ],
      "source": [
        "import pandas as pd\n",
        "\n",
        "# Contoh prediksi untuk data baru\n",
        "new_data = pd.DataFrame({\n",
        "    'kondisi': [1],\n",
        "    'sakit_gigi': [1],\n",
        "    'frekuensi_sakit': [1],\n",
        "    'masalah_gigi': [1],\n",
        "    'gigi_berlubang': [1],\n",
        "    'harga': [1],\n",
        "    'reaksi_negatif': [0],\n",
        "    'range_warna_gigi': [3]  # Adjusted to match the bin ranges\n",
        "})\n",
        "\n",
        "# Lakukan prediksi untuk data baru\n",
        "prediction = model.predict(new_data)\n",
        "\n",
        "# Membuat mapping dictionary\n",
        "brand_mapping = {\n",
        "    1: 'Ciptadent',\n",
        "    2: 'CloseUp',\n",
        "    3: 'Colgate',\n",
        "    4: 'Pepsodent',\n",
        "    5: 'Sensodyne',\n",
        "    6: 'Lainnya'\n",
        "}\n",
        "\n",
        "# Mapping hasil prediksi ke nama merek\n",
        "predicted_brand = brand_mapping.get(prediction[0], 'Tidak Diketahui')\n",
        "print(f'Prediksi Merek Pasta Gigi: {predicted_brand}')"
      ]
    },
    {
      "cell_type": "code",
      "execution_count": null,
      "metadata": {
        "id": "9vjQ2R7uMNmm"
      },
      "outputs": [],
      "source": [
        "import tkinter as tk\n",
        "from tkinter import ttk\n",
        "import pandas as pd\n",
        "\n",
        "# Fungsi untuk melakukan prediksi\n",
        "def predict_brand():\n",
        "    # Mendapatkan nilai dari input pengguna\n",
        "    kondisi_val = kondisi_var.get()\n",
        "    sakit_gigi_val = sakit_gigi_var.get()\n",
        "    frekuensi_sakit_val = frekuensi_sakit_var.get()\n",
        "    masalah_gigi_val = masalah_gigi_var.get()\n",
        "    gigi_berlubang_val = gigi_berlubang_var.get()\n",
        "    harga_val = harga_var.get()\n",
        "    reaksi_negatif_val = reaksi_negatif_var.get()\n",
        "    range_warna_gigi_val = range_warna_gigi_var.get()\n",
        "\n",
        "    # Mapping nilai dropdown ke backend values\n",
        "    kondisi_mapping = {'Normal': 1, 'Sensitif': 2}\n",
        "    sakit_gigi_mapping = {'Iyaa': 1, 'Tidak Pernah': 0}\n",
        "    frekuensi_sakit_mapping = {'Tidak pernah': 0, 'Jarang': 1, 'kadang-kadang': 2, 'Sering': 3}\n",
        "    masalah_gigi_mapping = {'Pernah': 1, 'Tidak Pernah': 0}\n",
        "    gigi_berlubang_mapping = {'Ya': 1, 'Tidak': 0}\n",
        "    harga_mapping = {'Ya': 1, 'Tidak': 0}\n",
        "    reaksi_negatif_mapping = {'Pernah': 1, 'Tidak Pernah': 0}\n",
        "\n",
        "    # Menggunakan kategori untuk range_warna_gigi\n",
        "    if range_warna_gigi_val <= 5:\n",
        "        range_warna_gigi_val = 0\n",
        "    elif 6 <= range_warna_gigi_val <= 10:\n",
        "        range_warna_gigi_val = 1\n",
        "    elif 11 <= range_warna_gigi_val <= 15:\n",
        "        range_warna_gigi_val = 2\n",
        "    elif 16 <= range_warna_gigi_val <= 20:\n",
        "        range_warna_gigi_val = 3\n",
        "    else:\n",
        "        range_warna_gigi_val = 4\n",
        "\n",
        "    # Membuat DataFrame dari input pengguna\n",
        "    new_data = pd.DataFrame({\n",
        "        'kondisi': [kondisi_mapping.get(kondisi_val, 0)],\n",
        "        'sakit_gigi': [sakit_gigi_mapping.get(sakit_gigi_val, 0)],\n",
        "        'frekuensi_sakit': [frekuensi_sakit_mapping.get(frekuensi_sakit_val, 0)],\n",
        "        'masalah_gigi': [masalah_gigi_mapping.get(masalah_gigi_val, 0)],\n",
        "        'gigi_berlubang': [gigi_berlubang_mapping.get(gigi_berlubang_val, 0)],\n",
        "        'harga': [harga_mapping.get(harga_val, 0)],\n",
        "        'reaksi_negatif': [reaksi_negatif_mapping.get(reaksi_negatif_val, 0)],\n",
        "        'range_warna_gigi': [range_warna_gigi_val]\n",
        "    })\n",
        "\n",
        "    # Lakukan prediksi untuk data baru\n",
        "    prediction = model.predict(new_data)\n",
        "\n",
        "    # Mapping hasil prediksi ke nama merek\n",
        "    predicted_brand = brand_mapping.get(prediction[0], 'Tidak Diketahui')\n",
        "\n",
        "    # Menampilkan hasil prediksi pada label\n",
        "    result_label.config(text=f'Prediksi Merek Pasta Gigi: {predicted_brand}')\n",
        "\n",
        "# Membuat jendela aplikasi\n",
        "app = tk.Tk()\n",
        "app.title(\"Aplikasi Prediksi Merek Pasta Gigi\")\n",
        "\n",
        "# Membuat label dan dropdown untuk setiap fitur\n",
        "labels = ['Kondisi', 'Sakit Gigi', 'Frekuensi Sakit', 'Masalah Gigi',\n",
        "          'Gigi Berlubang', 'Harga', 'Reaksi Negatif', 'Range Warna Gigi']\n",
        "\n",
        "# Dropdown options\n",
        "kondisi_options = ['Normal', 'Sensitif']\n",
        "sakit_gigi_options = ['Iya', 'Tidak Pernah']\n",
        "frekuensi_sakit_options = ['Tidak pernah', 'Jarang', 'kadang-kadang', 'Sering']\n",
        "masalah_gigi_options = ['Pernah', 'Tidak Pernah']\n",
        "gigi_berlubang_options = ['Ya', 'Tidak']\n",
        "harga_options = ['Ya', 'Tidak']\n",
        "reaksi_negatif_options = ['Pernah', 'Tidak Pernah']\n",
        "\n",
        "# Variable untuk menyimpan nilai dropdown\n",
        "kondisi_var = tk.StringVar(app)\n",
        "sakit_gigi_var = tk.StringVar(app)\n",
        "frekuensi_sakit_var = tk.StringVar(app)\n",
        "masalah_gigi_var = tk.StringVar(app)\n",
        "gigi_berlubang_var = tk.StringVar(app)\n",
        "harga_var = tk.StringVar(app)\n",
        "reaksi_negatif_var = tk.StringVar(app)\n",
        "range_warna_gigi_var = tk.IntVar(app)\n",
        "\n",
        "# Setting default value untuk dropdown\n",
        "kondisi_var.set(kondisi_options[0])\n",
        "sakit_gigi_var.set(sakit_gigi_options[0])\n",
        "frekuensi_sakit_var.set(frekuensi_sakit_options[0])\n",
        "masalah_gigi_var.set(masalah_gigi_options[0])\n",
        "gigi_berlubang_var.set(gigi_berlubang_options[0])\n",
        "harga_var.set(harga_options[0])\n",
        "reaksi_negatif_var.set(reaksi_negatif_options[0])\n",
        "range_warna_gigi_var.set(1)\n",
        "\n",
        "for i, label in enumerate(labels):\n",
        "    ttk.Label(app, text=label).grid(row=i, column=0, padx=10, pady=5, sticky='w')\n",
        "    if label == 'Kondisi':\n",
        "        ttk.Combobox(app, values=kondisi_options, textvariable=kondisi_var).grid(row=i, column=1, padx=10, pady=5)\n",
        "    elif label == 'Sakit Gigi':\n",
        "        ttk.Combobox(app, values=sakit_gigi_options, textvariable=sakit_gigi_var).grid(row=i, column=1, padx=10, pady=5)\n",
        "    elif label == 'Frekuensi Sakit':\n",
        "        ttk.Combobox(app, values=frekuensi_sakit_options, textvariable=frekuensi_sakit_var).grid(row=i, column=1, padx=10, pady=5)\n",
        "    elif label == 'Masalah Gigi':\n",
        "        ttk.Combobox(app, values=masalah_gigi_options, textvariable=masalah_gigi_var).grid(row=i, column=1, padx=10, pady=5)\n",
        "    elif label == 'Gigi Berlubang':\n",
        "        ttk.Combobox(app, values=gigi_berlubang_options, textvariable=gigi_berlubang_var).grid(row=i, column=1, padx=10, pady=5)\n",
        "    elif label == 'Harga':\n",
        "        ttk.Combobox(app, values=harga_options, textvariable=harga_var).grid(row=i, column=1, padx=10, pady=5)\n",
        "    elif label == 'Reaksi Negatif':\n",
        "        ttk.Combobox(app, values=reaksi_negatif_options, textvariable=reaksi_negatif_var).grid(row=i, column=1, padx=10, pady=5)\n",
        "    elif label == 'Range Warna Gigi':\n",
        "        tk.Entry(app, textvariable=range_warna_gigi_var).grid(row=i, column=1, padx=10, pady=5)\n",
        "\n",
        "# Tombol untuk melakukan prediksi\n",
        "ttk.Button(app, text=\"Prediksi\", command=predict_brand).grid(row=len(labels), column=0, columnspan=2, pady=10)\n",
        "\n",
        "# Label untuk menampilkan hasil prediksi\n",
        "result_label = ttk.Label(app, text=\"\")\n",
        "result_label.grid(row=len(labels) + 1, column=0, columnspan=2, pady=10)\n",
        "\n",
        "# Menjalankan aplikasi\n",
        "app.mainloop()"
      ]
    },
    {
      "cell_type": "code",
      "execution_count": null,
      "metadata": {
        "id": "4HKYV7P7MNmm"
      },
      "outputs": [],
      "source": [
        "import tkinter as tk\n",
        "from tkinter import ttk\n",
        "import pandas as pd\n",
        "\n",
        "# Fungsi untuk melakukan prediksi\n",
        "def predict_brand():\n",
        "    # Mendapatkan nilai dari input pengguna\n",
        "    kondisi_val = kondisi_var.get()\n",
        "    sakit_gigi_val = sakit_gigi_var.get()\n",
        "    frekuensi_sakit_val = frekuensi_sakit_var.get()\n",
        "    masalah_gigi_val = masalah_gigi_var.get()\n",
        "    gigi_berlubang_val = gigi_berlubang_var.get()\n",
        "    harga_val = harga_var.get()\n",
        "    reaksi_negatif_val = reaksi_negatif_var.get()\n",
        "    range_warna_gigi_val = range_warna_gigi_var.get()\n",
        "\n",
        "    # Mapping nilai dropdown ke backend values\n",
        "    kondisi_mapping = {'Normal': 1, 'Sensitif': 2}\n",
        "    sakit_gigi_mapping = {'Iya': 1, 'Tidak Pernah': 0}\n",
        "    frekuensi_sakit_mapping = {'Tidak pernah': 0, 'Jarang': 1, 'kadang-kadang': 2, 'Sering': 3}\n",
        "    masalah_gigi_mapping = {'Pernah': 1, 'Tidak Pernah': 0}\n",
        "    gigi_berlubang_mapping = {'Ya': 1, 'Tidak': 0}\n",
        "    harga_mapping = {'Ya': 1, 'Tidak': 0}\n",
        "    reaksi_negatif_mapping = {'Pernah': 1, 'Tidak Pernah': 0}\n",
        "\n",
        "    # Menggunakan kategori untuk range_warna_gigi\n",
        "    if range_warna_gigi_val <= 5:\n",
        "        range_warna_gigi_val = 0\n",
        "    elif 6 <= range_warna_gigi_val <= 10:\n",
        "        range_warna_gigi_val = 1\n",
        "    elif 11 <= range_warna_gigi_val <= 15:\n",
        "        range_warna_gigi_val = 2\n",
        "    elif 16 <= range_warna_gigi_val <= 20:\n",
        "        range_warna_gigi_val = 3\n",
        "    else:\n",
        "        range_warna_gigi_val = 4\n",
        "\n",
        "    # Membuat DataFrame dari input pengguna\n",
        "    new_data = pd.DataFrame({\n",
        "        'kondisi': [kondisi_mapping.get(kondisi_val, 0)],\n",
        "        'sakit_gigi': [sakit_gigi_mapping.get(sakit_gigi_val, 0)],\n",
        "        'frekuensi_sakit': [frekuensi_sakit_mapping.get(frekuensi_sakit_val, 0)],\n",
        "        'masalah_gigi': [masalah_gigi_mapping.get(masalah_gigi_val, 0)],\n",
        "        'gigi_berlubang': [gigi_berlubang_mapping.get(gigi_berlubang_val, 0)],\n",
        "        'harga': [harga_mapping.get(harga_val, 0)],\n",
        "        'reaksi_negatif': [reaksi_negatif_mapping.get(reaksi_negatif_val, 0)],\n",
        "        'range_warna_gigi': [range_warna_gigi_val]\n",
        "    })\n",
        "\n",
        "    # Lakukan prediksi untuk data baru\n",
        "    prediction = model.predict(new_data)\n",
        "\n",
        "    # Mapping hasil prediksi ke nama merek\n",
        "    predicted_brand = brand_mapping.get(prediction[0], 'Tidak Diketahui')\n",
        "\n",
        "    # Menampilkan hasil prediksi pada label\n",
        "    result_label.config(text=f'Prediksi Merek Pasta Gigi: {predicted_brand}')\n",
        "\n",
        "# Membuat jendela aplikasi\n",
        "app = tk.Tk()\n",
        "app.title(\"Aplikasi Prediksi Merek Pasta Gigi\")\n",
        "\n",
        "# Membuat label dan dropdown untuk setiap fitur\n",
        "labels = ['Kondisi', 'Sakit Gigi', 'Frekuensi Sakit', 'Masalah Gigi',\n",
        "          'Gigi Berlubang', 'Harga', 'Reaksi Negatif', 'Range Warna Gigi']\n",
        "\n",
        "# Pertanyaan untuk setiap label\n",
        "questions = {\n",
        "    'Kondisi': 'Kondisi gigi anda saat ini?',\n",
        "    'Sakit Gigi': 'Apakah anda mempunyai riwayat sakit gigi?',\n",
        "    'Frekuensi Sakit': 'Jika jawaban di atas adalah iya, seberapa sering Anda mengalami sakit gigi?',\n",
        "    'Masalah Gigi': 'Pernah mengalami masalah gigi lainnya? (misalnya, gusi berdarah, gigi tanggal, dll.)',\n",
        "    'Gigi Berlubang': 'Apakah anda memiliki gigi yang berlubang?',\n",
        "    'Harga': 'Apakah harga mempengaruhi pilihan Anda dalam membeli pasta gigi?',\n",
        "    'Reaksi Negatif': 'Apakah Anda pernah mengalami reaksi negatif setelah menggunakan pasta gigi tertentu? (misalnya, iritasi gusi, rasa panas, dll.)',\n",
        "    'Range Warna Gigi': 'Range warna gigi anda saat ini \\n <=5 = 0, 6-10 = 1, 11-15 = 2, 16-20 = 3, >20 = 4'\n",
        "}\n",
        "\n",
        "# Dropdown options\n",
        "kondisi_options = ['Normal', 'Sensitif']\n",
        "sakit_gigi_options = ['Iya', 'Tidak Pernah']\n",
        "frekuensi_sakit_options = ['Tidak pernah', 'Jarang', 'kadang-kadang', 'Sering']\n",
        "masalah_gigi_options = ['Pernah', 'Tidak Pernah']\n",
        "gigi_berlubang_options = ['Ya', 'Tidak']\n",
        "harga_options = ['Ya', 'Tidak']\n",
        "reaksi_negatif_options = ['Pernah', 'Tidak Pernah']\n",
        "\n",
        "# Variable untuk menyimpan nilai dropdown\n",
        "kondisi_var = tk.StringVar(app)\n",
        "sakit_gigi_var = tk.StringVar(app)\n",
        "frekuensi_sakit_var = tk.StringVar(app)\n",
        "masalah_gigi_var = tk.StringVar(app)\n",
        "gigi_berlubang_var = tk.StringVar(app)\n",
        "harga_var = tk.StringVar(app)\n",
        "reaksi_negatif_var = tk.StringVar(app)\n",
        "range_warna_gigi_var = tk.IntVar(app)\n",
        "\n",
        "# Setting default value untuk dropdown\n",
        "kondisi_var.set(kondisi_options[0])\n",
        "sakit_gigi_var.set(sakit_gigi_options[0])\n",
        "frekuensi_sakit_var.set(frekuensi_sakit_options[0])\n",
        "masalah_gigi_var.set(masalah_gigi_options[0])\n",
        "gigi_berlubang_var.set(gigi_berlubang_options[0])\n",
        "harga_var.set(harga_options[0])\n",
        "reaksi_negatif_var.set(reaksi_negatif_options[0])\n",
        "range_warna_gigi_var.set(1)\n",
        "\n",
        "for i, label in enumerate(labels):\n",
        "    ttk.Label(app, text=questions[label]).grid(row=i, column=0, padx=10, pady=5, sticky='w')\n",
        "    if label == 'Kondisi':\n",
        "        ttk.Combobox(app, values=kondisi_options, textvariable=kondisi_var).grid(row=i, column=1, padx=10, pady=5)\n",
        "    elif label == 'Sakit Gigi':\n",
        "        ttk.Combobox(app, values=sakit_gigi_options, textvariable=sakit_gigi_var).grid(row=i, column=1, padx=10, pady=5)\n",
        "    elif label == 'Frekuensi Sakit':\n",
        "        ttk.Combobox(app, values=frekuensi_sakit_options, textvariable=frekuensi_sakit_var).grid(row=i, column=1, padx=10, pady=5)\n",
        "    elif label == 'Masalah Gigi':\n",
        "        ttk.Combobox(app, values=masalah_gigi_options, textvariable=masalah_gigi_var).grid(row=i, column=1, padx=10, pady=5)\n",
        "    elif label == 'Gigi Berlubang':\n",
        "        ttk.Combobox(app, values=gigi_berlubang_options, textvariable=gigi_berlubang_var).grid(row=i, column=1, padx=10, pady=5)\n",
        "    elif label == 'Harga':\n",
        "        ttk.Combobox(app, values=harga_options, textvariable=harga_var).grid(row=i, column=1, padx=10, pady=5)\n",
        "    elif label == 'Reaksi Negatif':\n",
        "        ttk.Combobox(app, values=reaksi_negatif_options, textvariable=reaksi_negatif_var).grid(row=i, column=1, padx=10, pady=5)\n",
        "    elif label == 'Range Warna Gigi':\n",
        "        tk.Entry(app, textvariable=range_warna_gigi_var).grid(row=i, column=1, padx=10, pady=5)\n",
        "\n",
        "# Tombol untuk melakukan prediksi\n",
        "ttk.Button(app, text=\"Prediksi\", command=predict_brand).grid(row=len(labels), column=0, columnspan=2, pady=10)\n",
        "\n",
        "# Label untuk menampilkan hasil prediksi\n",
        "result_label = ttk.Label(app, text=\"\")\n",
        "result_label.grid(row=len(labels) + 1, column=0, columnspan=2, pady=10)\n",
        "\n",
        "# Menjalankan aplikasi\n",
        "app.mainloop()\n"
      ]
    },
    {
      "cell_type": "code",
      "execution_count": null,
      "metadata": {
        "id": "_Sdcwu4FMNmn"
      },
      "outputs": [],
      "source": []
    }
  ],
  "metadata": {
    "colab": {
      "provenance": []
    },
    "kernelspec": {
      "display_name": "Python 3 (ipykernel)",
      "language": "python",
      "name": "python3"
    },
    "language_info": {
      "codemirror_mode": {
        "name": "ipython",
        "version": 3
      },
      "file_extension": ".py",
      "mimetype": "text/x-python",
      "name": "python",
      "nbconvert_exporter": "python",
      "pygments_lexer": "ipython3",
      "version": "3.11.4"
    }
  },
  "nbformat": 4,
  "nbformat_minor": 0
}